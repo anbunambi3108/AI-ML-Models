{
 "cells": [
  {
   "cell_type": "markdown",
   "id": "683a8e89",
   "metadata": {},
   "source": [
    "# Day-5 Assignment\n",
    "#### Anbu Ezhilmathi Nambi - E0119053\n",
    "### Logistic Regression - Facebook Ads dataset"
   ]
  },
  {
   "cell_type": "markdown",
   "id": "562fb1ce",
   "metadata": {},
   "source": [
    "#  Importing the libraries"
   ]
  },
  {
   "cell_type": "code",
   "execution_count": 1,
   "id": "360acbf3",
   "metadata": {},
   "outputs": [],
   "source": [
    "import numpy as np\n",
    "import pandas as pd\n",
    "import matplotlib.pyplot as plt\n",
    "import seaborn as sns"
   ]
  },
  {
   "cell_type": "markdown",
   "id": "16eda007",
   "metadata": {},
   "source": [
    "# Importing the dataset"
   ]
  },
  {
   "cell_type": "code",
   "execution_count": 2,
   "id": "bc61b005",
   "metadata": {},
   "outputs": [
    {
     "data": {
      "text/html": [
       "<div>\n",
       "<style scoped>\n",
       "    .dataframe tbody tr th:only-of-type {\n",
       "        vertical-align: middle;\n",
       "    }\n",
       "\n",
       "    .dataframe tbody tr th {\n",
       "        vertical-align: top;\n",
       "    }\n",
       "\n",
       "    .dataframe thead th {\n",
       "        text-align: right;\n",
       "    }\n",
       "</style>\n",
       "<table border=\"1\" class=\"dataframe\">\n",
       "  <thead>\n",
       "    <tr style=\"text-align: right;\">\n",
       "      <th></th>\n",
       "      <th>Names</th>\n",
       "      <th>Time Spent on Site</th>\n",
       "      <th>Salary</th>\n",
       "      <th>Clicked</th>\n",
       "    </tr>\n",
       "  </thead>\n",
       "  <tbody>\n",
       "    <tr>\n",
       "      <th>0</th>\n",
       "      <td>Martina Avila</td>\n",
       "      <td>25.649648</td>\n",
       "      <td>55330.06006</td>\n",
       "      <td>0</td>\n",
       "    </tr>\n",
       "    <tr>\n",
       "      <th>1</th>\n",
       "      <td>Harlan Barnes</td>\n",
       "      <td>32.456107</td>\n",
       "      <td>79049.07674</td>\n",
       "      <td>1</td>\n",
       "    </tr>\n",
       "    <tr>\n",
       "      <th>2</th>\n",
       "      <td>Naomi Rodriquez</td>\n",
       "      <td>20.945978</td>\n",
       "      <td>41098.60826</td>\n",
       "      <td>0</td>\n",
       "    </tr>\n",
       "    <tr>\n",
       "      <th>3</th>\n",
       "      <td>Jade Cunningham</td>\n",
       "      <td>54.039325</td>\n",
       "      <td>37143.35536</td>\n",
       "      <td>1</td>\n",
       "    </tr>\n",
       "    <tr>\n",
       "      <th>4</th>\n",
       "      <td>Cedric Leach</td>\n",
       "      <td>34.249729</td>\n",
       "      <td>37355.11276</td>\n",
       "      <td>0</td>\n",
       "    </tr>\n",
       "  </tbody>\n",
       "</table>\n",
       "</div>"
      ],
      "text/plain": [
       "             Names  Time Spent on Site       Salary  Clicked\n",
       "0    Martina Avila           25.649648  55330.06006        0\n",
       "1    Harlan Barnes           32.456107  79049.07674        1\n",
       "2  Naomi Rodriquez           20.945978  41098.60826        0\n",
       "3  Jade Cunningham           54.039325  37143.35536        1\n",
       "4     Cedric Leach           34.249729  37355.11276        0"
      ]
     },
     "execution_count": 2,
     "metadata": {},
     "output_type": "execute_result"
    }
   ],
   "source": [
    "data = pd.read_csv(\"Facebook_Ads_2.csv\")\n",
    "data.head()"
   ]
  },
  {
   "cell_type": "code",
   "execution_count": 3,
   "id": "ef067506",
   "metadata": {},
   "outputs": [
    {
     "data": {
      "text/plain": [
       "(499, 4)"
      ]
     },
     "execution_count": 3,
     "metadata": {},
     "output_type": "execute_result"
    }
   ],
   "source": [
    "data.shape"
   ]
  },
  {
   "cell_type": "code",
   "execution_count": 4,
   "id": "fc255e2c",
   "metadata": {},
   "outputs": [],
   "source": [
    "x = data.iloc[:,1:-1].values\n",
    "y = data.iloc[:,-1].values"
   ]
  },
  {
   "cell_type": "code",
   "execution_count": 5,
   "id": "a6d192aa",
   "metadata": {},
   "outputs": [
    {
     "data": {
      "text/plain": [
       "((499, 2), (499,))"
      ]
     },
     "execution_count": 5,
     "metadata": {},
     "output_type": "execute_result"
    }
   ],
   "source": [
    "x.shape, y.shape"
   ]
  },
  {
   "cell_type": "markdown",
   "id": "81b53ca9",
   "metadata": {},
   "source": [
    "# Taking care of missing data"
   ]
  },
  {
   "cell_type": "code",
   "execution_count": 6,
   "id": "c573ead2",
   "metadata": {},
   "outputs": [
    {
     "name": "stdout",
     "output_type": "stream",
     "text": [
      "<class 'pandas.core.frame.DataFrame'>\n",
      "RangeIndex: 499 entries, 0 to 498\n",
      "Data columns (total 4 columns):\n",
      " #   Column              Non-Null Count  Dtype  \n",
      "---  ------              --------------  -----  \n",
      " 0   Names               499 non-null    object \n",
      " 1   Time Spent on Site  499 non-null    float64\n",
      " 2   Salary              499 non-null    float64\n",
      " 3   Clicked             499 non-null    int64  \n",
      "dtypes: float64(2), int64(1), object(1)\n",
      "memory usage: 15.7+ KB\n"
     ]
    }
   ],
   "source": [
    "data.info()"
   ]
  },
  {
   "cell_type": "markdown",
   "id": "e2527b3f",
   "metadata": {},
   "source": [
    "#  Visualizing data"
   ]
  },
  {
   "cell_type": "code",
   "execution_count": 7,
   "id": "7878cdc5",
   "metadata": {},
   "outputs": [
    {
     "data": {
      "text/plain": [
       "<AxesSubplot:xlabel='Time Spent on Site', ylabel='Salary'>"
      ]
     },
     "execution_count": 7,
     "metadata": {},
     "output_type": "execute_result"
    },
    {
     "data": {
      "image/png": "[encoded data removed]",
      "text/plain": [
       "<Figure size 432x288 with 1 Axes>"
      ]
     },
     "metadata": {
      "needs_background": "light"
     },
     "output_type": "display_data"
    }
   ],
   "source": [
    "sns.scatterplot(x='Time Spent on Site', y='Salary', data = data, hue = 'Clicked' )"
   ]
  },
  {
   "cell_type": "markdown",
   "id": "136b19ff",
   "metadata": {},
   "source": [
    "# Splitting data to train and test set"
   ]
  },
  {
   "cell_type": "code",
   "execution_count": 8,
   "id": "d43c3e10",
   "metadata": {},
   "outputs": [],
   "source": [
    "from sklearn.model_selection import train_test_split\n",
    "x_train,x_test,y_train,y_test = train_test_split(x,y,test_size=0.2)"
   ]
  },
  {
   "cell_type": "code",
   "execution_count": 9,
   "id": "8faad1d5",
   "metadata": {},
   "outputs": [
    {
     "data": {
      "text/plain": [
       "((399, 2), (100, 2))"
      ]
     },
     "execution_count": 9,
     "metadata": {},
     "output_type": "execute_result"
    }
   ],
   "source": [
    "x_train.shape, x_test.shape"
   ]
  },
  {
   "cell_type": "markdown",
   "id": "08b45985",
   "metadata": {},
   "source": [
    "# Train model"
   ]
  },
  {
   "cell_type": "code",
   "execution_count": 10,
   "id": "5b384d80",
   "metadata": {},
   "outputs": [
    {
     "data": {
      "text/plain": [
       "LogisticRegression()"
      ]
     },
     "execution_count": 10,
     "metadata": {},
     "output_type": "execute_result"
    }
   ],
   "source": [
    "from sklearn.linear_model import LogisticRegression\n",
    "log_regressor = LogisticRegression()\n",
    "log_regressor.fit(x_train,y_train)"
   ]
  },
  {
   "cell_type": "code",
   "execution_count": 11,
   "id": "d30903df",
   "metadata": {},
   "outputs": [
    {
     "data": {
      "text/plain": [
       "array([1, 1, 0, 1, 0, 1, 1, 1, 1, 0, 1, 1, 1, 1, 1, 1, 1, 1, 1, 1, 1, 1,\n",
       "       1, 1, 1, 1, 1, 0, 1, 1, 1, 1, 1, 1, 1, 1, 1, 1, 0, 1, 1, 1, 1, 1,\n",
       "       0, 0, 1, 1, 1, 1, 1, 0, 1, 0, 1, 1, 1, 1, 1, 1, 1, 0, 1, 1, 1, 1,\n",
       "       1, 1, 0, 1, 1, 1, 1, 1, 1, 0, 1, 1, 1, 1, 1, 1, 1, 0, 1, 1, 1, 1,\n",
       "       1, 0, 1, 1, 1, 1, 1, 1, 1, 1, 0, 1, 1, 1, 1, 1, 1, 1, 1, 1, 1, 1,\n",
       "       0, 1, 1, 1, 1, 0, 0, 0, 1, 0, 1, 1, 1, 1, 1, 1, 1, 1, 1, 1, 1, 1,\n",
       "       1, 0, 1, 1, 1, 1, 1, 1, 1, 0, 1, 1, 0, 1, 1, 1, 1, 1, 1, 1, 1, 1,\n",
       "       1, 1, 1, 1, 0, 1, 1, 1, 1, 1, 1, 1, 1, 0, 0, 1, 1, 1, 1, 1, 1, 0,\n",
       "       1, 1, 1, 1, 1, 1, 1, 1, 1, 1, 1, 1, 1, 1, 1, 1, 1, 0, 0, 1, 1, 1,\n",
       "       1, 0, 0, 1, 0, 0, 1, 1, 1, 1, 0, 1, 1, 1, 1, 1, 0, 1, 1, 1, 1, 1,\n",
       "       0, 1, 1, 1, 1, 1, 1, 0, 1, 0, 1, 1, 1, 1, 1, 1, 1, 1, 1, 1, 1, 1,\n",
       "       0, 1, 1, 1, 1, 1, 1, 1, 0, 1, 1, 1, 1, 1, 1, 1, 1, 1, 1, 1, 1, 1,\n",
       "       1, 1, 0, 1, 1, 1, 1, 1, 1, 1, 1, 1, 1, 1, 0, 1, 1, 1, 1, 1, 0, 1,\n",
       "       1, 1, 1, 0, 1, 1, 1, 1, 1, 1, 1, 1, 1, 0, 1, 1, 1, 1, 1, 1, 1, 1,\n",
       "       1, 1, 1, 1, 1, 1, 0, 1, 0, 1, 1, 1, 1, 1, 1, 1, 0, 1, 1, 1, 1, 1,\n",
       "       1, 1, 1, 0, 1, 1, 1, 1, 1, 1, 1, 1, 1, 1, 0, 1, 1, 0, 1, 1, 1, 0,\n",
       "       1, 1, 1, 1, 1, 1, 1, 1, 1, 1, 1, 1, 1, 1, 1, 1, 1, 1, 0, 1, 1, 1,\n",
       "       1, 1, 0, 1, 1, 1, 1, 1, 1, 1, 1, 1, 1, 1, 1, 1, 1, 1, 1, 1, 1, 1,\n",
       "       1, 1, 1], dtype=int64)"
      ]
     },
     "execution_count": 11,
     "metadata": {},
     "output_type": "execute_result"
    }
   ],
   "source": [
    "y_train_pred = log_regressor.predict(x_train)\n",
    "y_train_pred"
   ]
  },
  {
   "cell_type": "code",
   "execution_count": 12,
   "id": "b708f95a",
   "metadata": {},
   "outputs": [
    {
     "data": {
      "text/plain": [
       "array([1, 1, 1, 1, 0, 1, 1, 1, 1, 0, 0, 1, 0, 0, 1, 0, 1, 1, 0, 1, 0, 1,\n",
       "       0, 0, 1, 0, 0, 0, 0, 0, 0, 1, 1, 0, 1, 1, 1, 0, 0, 1, 0, 1, 1, 1,\n",
       "       0, 1, 1, 1, 0, 1, 1, 0, 0, 0, 1, 0, 0, 0, 0, 0, 0, 1, 1, 0, 1, 0,\n",
       "       1, 0, 0, 0, 1, 1, 0, 1, 1, 0, 1, 0, 0, 1, 1, 1, 1, 0, 0, 0, 0, 1,\n",
       "       0, 0, 1, 0, 0, 1, 0, 1, 1, 1, 0, 1, 1, 0, 1, 0, 0, 0, 1, 0, 1, 1,\n",
       "       0, 0, 1, 0, 0, 0, 0, 0, 1, 0, 1, 1, 1, 0, 1, 0, 1, 0, 0, 1, 0, 1,\n",
       "       0, 0, 0, 1, 1, 0, 1, 0, 1, 1, 0, 1, 0, 0, 0, 0, 1, 1, 1, 0, 1, 0,\n",
       "       1, 0, 1, 0, 0, 0, 1, 1, 1, 0, 0, 0, 1, 1, 0, 0, 0, 1, 1, 1, 1, 0,\n",
       "       0, 0, 0, 0, 1, 1, 0, 0, 1, 0, 1, 0, 1, 1, 1, 0, 0, 1, 0, 0, 0, 1,\n",
       "       1, 1, 0, 1, 0, 0, 0, 1, 0, 0, 1, 0, 0, 1, 1, 0, 0, 1, 0, 0, 0, 1,\n",
       "       0, 1, 0, 1, 1, 1, 0, 0, 0, 0, 1, 0, 0, 1, 0, 0, 0, 1, 0, 1, 1, 1,\n",
       "       0, 1, 1, 0, 0, 1, 1, 1, 0, 0, 1, 1, 0, 0, 1, 0, 0, 0, 1, 1, 1, 1,\n",
       "       1, 0, 0, 1, 1, 0, 0, 1, 1, 0, 1, 1, 0, 1, 1, 1, 0, 0, 1, 1, 0, 0,\n",
       "       1, 0, 0, 0, 1, 1, 1, 0, 1, 1, 1, 0, 1, 0, 0, 0, 1, 1, 1, 0, 0, 1,\n",
       "       1, 1, 1, 0, 1, 1, 0, 0, 1, 1, 1, 1, 1, 1, 1, 1, 0, 1, 1, 0, 0, 1,\n",
       "       1, 0, 1, 1, 1, 1, 0, 1, 1, 1, 0, 0, 0, 1, 0, 0, 0, 0, 0, 1, 1, 0,\n",
       "       0, 1, 1, 0, 0, 1, 0, 0, 0, 0, 1, 1, 0, 0, 1, 1, 1, 0, 0, 0, 0, 0,\n",
       "       1, 0, 0, 0, 0, 1, 0, 1, 0, 1, 0, 1, 1, 0, 1, 1, 1, 1, 0, 1, 1, 1,\n",
       "       1, 0, 1], dtype=int64)"
      ]
     },
     "execution_count": 12,
     "metadata": {},
     "output_type": "execute_result"
    }
   ],
   "source": [
    "y_train"
   ]
  },
  {
   "cell_type": "markdown",
   "id": "5de0a491",
   "metadata": {},
   "source": [
    "#### Accuracy Score:"
   ]
  },
  {
   "cell_type": "code",
   "execution_count": 13,
   "id": "d590440a",
   "metadata": {},
   "outputs": [
    {
     "name": "stdout",
     "output_type": "stream",
     "text": [
      "Accuracy: 0.5789473684210527\n"
     ]
    }
   ],
   "source": [
    "print(\"Accuracy:\",np.mean(y_train == y_train_pred))"
   ]
  },
  {
   "cell_type": "code",
   "execution_count": 14,
   "id": "e2ff8865",
   "metadata": {},
   "outputs": [
    {
     "data": {
      "text/plain": [
       "0.5789473684210527"
      ]
     },
     "execution_count": 14,
     "metadata": {},
     "output_type": "execute_result"
    }
   ],
   "source": [
    "from sklearn.metrics import accuracy_score,confusion_matrix\n",
    "accuracy_score(y_train,y_train_pred)"
   ]
  },
  {
   "cell_type": "code",
   "execution_count": 15,
   "id": "fbfda96f",
   "metadata": {},
   "outputs": [
    {
     "data": {
      "text/plain": [
       "array([[ 43, 157],\n",
       "       [ 11, 188]], dtype=int64)"
      ]
     },
     "execution_count": 15,
     "metadata": {},
     "output_type": "execute_result"
    }
   ],
   "source": [
    "confusion_matrix(y_train, y_train_pred)"
   ]
  },
  {
   "cell_type": "markdown",
   "id": "d7dc4de5",
   "metadata": {},
   "source": [
    "# Testing"
   ]
  },
  {
   "cell_type": "code",
   "execution_count": 16,
   "id": "1a2b1cc2",
   "metadata": {},
   "outputs": [],
   "source": [
    "y_test_pred = log_regressor.predict(x_test)"
   ]
  },
  {
   "cell_type": "code",
   "execution_count": 17,
   "id": "00eeed04",
   "metadata": {},
   "outputs": [
    {
     "name": "stdout",
     "output_type": "stream",
     "text": [
      "Test Accuracy: 0.59\n"
     ]
    }
   ],
   "source": [
    "print(\"Test Accuracy:\", accuracy_score(y_test, y_test_pred))"
   ]
  },
  {
   "cell_type": "markdown",
   "id": "80512b3f",
   "metadata": {},
   "source": [
    "# Feature scaling"
   ]
  },
  {
   "cell_type": "code",
   "execution_count": 18,
   "id": "b4e83414",
   "metadata": {},
   "outputs": [],
   "source": [
    "from sklearn.preprocessing import StandardScaler\n",
    "sc = StandardScaler()"
   ]
  },
  {
   "cell_type": "code",
   "execution_count": 19,
   "id": "9d80f844",
   "metadata": {},
   "outputs": [
    {
     "data": {
      "text/plain": [
       "array([[ 4.51582109e-02, -5.19026856e-02],\n",
       "       [ 5.08515255e-01,  5.15818459e-01],\n",
       "       [ 1.02092195e+00, -1.50379528e+00],\n",
       "       [ 7.62553387e-01,  9.17018882e-01],\n",
       "       [ 5.79083436e-01, -1.27299425e+00],\n",
       "       [ 8.39775359e-01,  8.05111509e-01],\n",
       "       [ 2.23174889e+00,  6.46591009e-01],\n",
       "       [-8.57378757e-01,  1.30415935e+00],\n",
       "       [ 2.99953743e+00,  1.23134315e+00],\n",
       "       [-2.18694309e-01, -1.22075370e+00],\n",
       "       [-1.98355570e+00,  2.33995923e+00],\n",
       "       [ 1.43284206e+00,  2.26439443e+00],\n",
       "       [ 5.43342304e-01,  2.53228362e-01],\n",
       "       [ 2.17595934e-01,  1.49617764e-01],\n",
       "       [ 1.15068832e+00,  3.63599487e-01],\n",
       "       [ 9.52009976e-04, -5.17730864e-01],\n",
       "       [-7.00896467e-01,  1.23168073e+00],\n",
       "       [-1.35544108e+00, -9.96995833e-01],\n",
       "       [-3.92464185e-01, -1.17043593e-01],\n",
       "       [ 3.94246257e-01,  2.16534723e+00],\n",
       "       [ 4.49797864e-01, -4.21601856e-01],\n",
       "       [ 5.88010236e-01,  2.20648254e+00],\n",
       "       [-1.34852072e+00, -1.43475793e+00],\n",
       "       [-1.04705335e+00, -5.06724137e-01],\n",
       "       [ 1.02524974e+00, -2.61617041e-01],\n",
       "       [-1.84509890e+00, -1.05322217e+00],\n",
       "       [-1.85587206e-01, -5.80301330e-01],\n",
       "       [ 2.62154169e-01, -2.13323865e+00],\n",
       "       [-5.53349493e-01,  1.77832596e-01],\n",
       "       [-1.53959882e+00, -2.86236024e-01],\n",
       "       [-7.91804784e-01, -1.17795891e+00],\n",
       "       [ 4.80214951e-01, -5.95533441e-02],\n",
       "       [ 1.28207656e-01,  1.13538323e+00],\n",
       "       [-1.04036910e+00, -5.21011123e-01],\n",
       "       [ 1.01923590e+00,  3.80060400e-01],\n",
       "       [ 9.69865108e-01,  1.94467773e+00],\n",
       "       [ 1.41027208e+00,  1.30370653e+00],\n",
       "       [-5.77748067e-01, -3.10215496e-01],\n",
       "       [-5.06579989e-01, -1.41952192e+00],\n",
       "       [ 1.32433236e+00,  8.76483254e-02],\n",
       "       [-1.91690081e+00, -2.23068462e-01],\n",
       "       [ 1.77367522e-01,  1.31822784e+00],\n",
       "       [ 5.21083354e-01, -3.28934974e-01],\n",
       "       [-4.11737564e-01,  6.64008984e-01],\n",
       "       [ 3.34325585e-01, -1.53747410e+00],\n",
       "       [ 1.03178021e+00, -1.09020326e+00],\n",
       "       [-7.36444352e-01,  6.49405264e-01],\n",
       "       [ 1.23935383e+00,  1.33293473e-01],\n",
       "       [-9.12680632e-01,  2.70173747e-01],\n",
       "       [ 1.39156014e+00,  7.68007101e-01],\n",
       "       [ 9.33164869e-01,  1.05618019e+00],\n",
       "       [ 1.71155060e-01, -1.59403403e+00],\n",
       "       [-8.05330516e-01, -1.21411729e+00],\n",
       "       [-2.68952876e-01, -2.14649922e+00],\n",
       "       [ 4.40969609e-01,  4.53865576e-01],\n",
       "       [-7.42424711e-01,  4.37016853e-01],\n",
       "       [-3.45672967e-01, -5.87300876e-01],\n",
       "       [-9.94216242e-01, -1.43118185e+00],\n",
       "       [-7.31806263e-01, -8.27552679e-01],\n",
       "       [ 3.89420365e-01, -2.04880444e-01],\n",
       "       [-1.13914202e+00, -5.93689863e-01],\n",
       "       [ 1.76574629e+00, -9.56032128e-01],\n",
       "       [ 2.82007602e-02,  1.88941528e+00],\n",
       "       [-3.60754942e-01, -6.24479824e-01],\n",
       "       [ 5.08882871e-01,  1.55388851e-03],\n",
       "       [-1.37997778e+00, -3.81752778e-01],\n",
       "       [ 5.85393154e-01, -6.19084848e-01],\n",
       "       [-2.83026795e-01, -1.02348036e+00],\n",
       "       [-1.16169243e+00, -2.40941783e+00],\n",
       "       [-3.53615153e-01,  2.86433050e-02],\n",
       "       [ 7.18485127e-02,  3.05249826e-01],\n",
       "       [ 1.88752628e+00,  9.87301532e-01],\n",
       "       [-4.30515193e-01,  1.02681316e-01],\n",
       "       [ 4.83541268e-01,  4.74018434e-01],\n",
       "       [ 7.53782796e-02, -3.47940107e-02],\n",
       "       [ 7.81737608e-02, -1.08608029e+00],\n",
       "       [-2.64336370e-01,  2.08931136e+00],\n",
       "       [-1.32977670e+00, -6.24494007e-01],\n",
       "       [-1.52080466e+00, -4.21585432e-01],\n",
       "       [ 6.29326159e-01,  2.80690693e-01],\n",
       "       [ 1.76479027e+00,  1.05534176e+00],\n",
       "       [ 1.52841046e+00,  8.86264618e-01],\n",
       "       [ 7.21252767e-01,  1.51756419e+00],\n",
       "       [ 2.63674812e-01, -1.52140609e+00],\n",
       "       [-7.20756590e-01, -5.76400495e-01],\n",
       "       [-7.24689375e-01, -5.76490920e-01],\n",
       "       [-1.33187580e+00, -2.39010879e-01],\n",
       "       [ 1.00003658e+00,  5.48789532e-01],\n",
       "       [-8.01745206e-01,  1.33885931e-01],\n",
       "       [ 8.14146824e-01, -1.71696305e+00],\n",
       "       [ 2.86339808e-01,  2.42745303e-01],\n",
       "       [-1.55862386e+00, -2.57913986e-02],\n",
       "       [ 4.23912455e-01,  2.37719097e-02],\n",
       "       [ 1.84179710e+00,  6.89048449e-01],\n",
       "       [-2.45108798e-01, -3.14452088e-01],\n",
       "       [-2.45300740e-01,  7.34528756e-01],\n",
       "       [-3.51590705e-01,  1.02354385e+00],\n",
       "       [ 3.13163246e-01,  1.71171953e+00],\n",
       "       [-1.00614886e+00, -1.55023620e+00],\n",
       "       [ 7.11636523e-01,  1.46253645e+00],\n",
       "       [-7.65175413e-01,  1.14808984e+00],\n",
       "       [-2.18632410e+00, -5.93657477e-01],\n",
       "       [ 1.28646182e+00,  6.32904819e-01],\n",
       "       [-2.33663916e+00, -3.87355441e-01],\n",
       "       [-5.38625934e-01,  4.55508693e-02],\n",
       "       [-5.83855017e-01, -2.72324306e-01],\n",
       "       [ 4.29873302e-01,  1.15796536e+00],\n",
       "       [-5.52677393e-02, -6.98955231e-02],\n",
       "       [ 2.41954780e-01,  9.68245897e-01],\n",
       "       [-9.86393267e-01, -8.66897366e-01],\n",
       "       [ 3.21559634e-02, -1.00821174e+00],\n",
       "       [-8.70657362e-01,  4.53069955e-01],\n",
       "       [ 1.50751435e+00, -2.27912238e-01],\n",
       "       [ 1.05338995e-01,  2.71388947e-01],\n",
       "       [-3.04640384e-01, -4.81735409e-01],\n",
       "       [-2.39314489e-01, -1.39968663e+00],\n",
       "       [-1.35636817e+00, -2.40433592e+00],\n",
       "       [-1.50413754e-01, -1.23650862e+00],\n",
       "       [ 8.40435385e-01,  1.27726083e+00],\n",
       "       [-8.74075537e-01, -1.84800118e+00],\n",
       "       [ 1.48016597e+00, -7.75818173e-02],\n",
       "       [ 6.77031255e-01,  1.07498639e+00],\n",
       "       [ 3.00543420e-01,  1.23090412e+00],\n",
       "       [-1.54569123e+00, -1.11596799e-01],\n",
       "       [ 1.05842724e+00,  7.88634225e-01],\n",
       "       [-1.71442848e+00, -6.05341193e-01],\n",
       "       [ 6.42324881e-02,  1.98737257e-01],\n",
       "       [-1.75333516e-01,  8.62169986e-02],\n",
       "       [-1.95072350e-01,  4.06886575e-01],\n",
       "       [ 7.96791528e-01,  1.18389614e+00],\n",
       "       [-6.21020376e-01, -6.00465244e-01],\n",
       "       [ 9.71013715e-01,  1.44334517e+00],\n",
       "       [-1.44166260e+00, -9.82802745e-01],\n",
       "       [-1.62650337e-01, -1.50076700e+00],\n",
       "       [-1.66730461e-01,  1.18002757e+00],\n",
       "       [ 1.27332811e+00,  1.77636195e+00],\n",
       "       [ 2.60430611e+00,  4.17562526e-01],\n",
       "       [-7.24038582e-01,  1.24650833e-01],\n",
       "       [ 1.00530064e+00,  4.73622003e-01],\n",
       "       [-5.69451708e-01, -7.52800649e-01],\n",
       "       [ 4.62417572e-01,  1.21679121e+00],\n",
       "       [ 8.64067263e-01, -9.27264082e-01],\n",
       "       [-8.39973732e-01,  1.73150145e-01],\n",
       "       [-6.82434190e-01, -6.91811126e-02],\n",
       "       [ 3.21618977e-01, -9.94570479e-01],\n",
       "       [-1.84718305e+00, -7.78840262e-01],\n",
       "       [-3.01368237e-01, -1.02461006e+00],\n",
       "       [-9.18199753e-01, -8.63640927e-01],\n",
       "       [ 2.68021583e-01,  8.51410868e-01],\n",
       "       [ 1.43383660e+00, -9.03248120e-02],\n",
       "       [ 4.69085630e-01,  5.63004831e-01],\n",
       "       [-1.29004727e+00,  7.42177927e-01],\n",
       "       [-1.06918257e+00, -2.33922059e-02],\n",
       "       [-1.41598572e+00, -9.70499006e-01],\n",
       "       [ 9.78523152e-01, -2.85609397e-01],\n",
       "       [-1.46473271e+00, -5.31307165e-01],\n",
       "       [-1.28234740e+00, -7.41766976e-01],\n",
       "       [ 4.80751689e-01, -1.49525172e-01],\n",
       "       [ 1.91623176e+00, -1.11682316e+00],\n",
       "       [ 5.12723363e-01, -6.61979939e-01],\n",
       "       [ 1.00303969e+00,  8.99608087e-02],\n",
       "       [-4.64104010e-01,  8.45065767e-01],\n",
       "       [ 1.21261253e+00,  1.27708465e+00],\n",
       "       [-3.73066852e-01, -9.68879366e-03],\n",
       "       [-3.85522912e-01, -1.11559982e-01],\n",
       "       [-1.92715602e+00,  1.07046651e-01],\n",
       "       [-3.14044104e-01,  1.01276813e-01],\n",
       "       [ 8.59849635e-01, -9.81894224e-01],\n",
       "       [-8.22566100e-02, -1.13897673e+00],\n",
       "       [-4.50163252e-01, -8.08283883e-01],\n",
       "       [-1.09602993e+00, -7.87935424e-01],\n",
       "       [ 9.03939535e-01, -1.85978964e-01],\n",
       "       [ 4.64951447e-01, -6.69619702e-02],\n",
       "       [ 6.55785756e-01,  1.23083549e-01],\n",
       "       [ 3.45355117e-01, -1.52296856e-01],\n",
       "       [ 7.22755153e-01, -1.00482771e+00],\n",
       "       [ 2.10764123e-01, -8.31724870e-01],\n",
       "       [-1.51302996e+00, -1.05872513e-01],\n",
       "       [-2.46429175e-02, -7.67633569e-01],\n",
       "       [-1.11266205e+00, -9.70489893e-01],\n",
       "       [-1.58088136e+00,  2.07524554e+00],\n",
       "       [ 3.62251482e-01,  3.14879116e-01],\n",
       "       [-8.64554124e-01,  1.12677240e-01],\n",
       "       [-2.18807920e-01,  1.07754147e+00],\n",
       "       [ 1.02118950e+00, -2.39270827e-01],\n",
       "       [-3.41645374e-01, -1.85934392e-01],\n",
       "       [ 1.19825988e+00, -1.17061529e-01],\n",
       "       [-1.04820667e-01, -5.55239173e-01],\n",
       "       [ 1.61761104e+00,  2.09766955e+00],\n",
       "       [ 4.69092883e-01,  5.28942683e-01],\n",
       "       [ 1.10608883e+00,  2.76281855e-01],\n",
       "       [-4.45510817e-01, -6.76278187e-01],\n",
       "       [-1.92023767e+00, -1.12608669e+00],\n",
       "       [ 1.29645294e+00, -1.13907485e+00],\n",
       "       [-7.79461838e-01, -2.77799986e+00],\n",
       "       [-1.09209884e+00, -6.48080329e-01],\n",
       "       [-7.09746154e-01, -1.11675755e+00],\n",
       "       [ 6.90876432e-01,  1.30479246e+00],\n",
       "       [ 1.13064117e+00,  5.67278416e-01],\n",
       "       [ 3.71925535e-01, -1.24015036e+00],\n",
       "       [ 2.67828587e-01, -1.46055869e+00],\n",
       "       [-3.27374880e-01,  1.26073388e+00],\n",
       "       [-1.45174838e+00, -1.76748643e+00],\n",
       "       [-5.62134082e-01, -1.54431766e+00],\n",
       "       [-9.23023862e-01, -9.58794635e-01],\n",
       "       [ 9.44026455e-01,  1.20115376e+00],\n",
       "       [-6.38908261e-01,  1.03986967e-01],\n",
       "       [-2.38229711e+00, -9.41920432e-01],\n",
       "       [ 2.29718721e+00,  1.04526817e-02],\n",
       "       [-4.43063512e-01, -1.21159792e+00],\n",
       "       [ 1.17056245e-01, -7.72608933e-01],\n",
       "       [ 4.28689661e-01,  1.48210260e+00],\n",
       "       [ 1.10229560e+00,  2.70052551e-01],\n",
       "       [-2.79101696e+00, -9.85039859e-01],\n",
       "       [ 6.77804713e-01, -1.24940131e+00],\n",
       "       [ 2.22903501e+00,  1.05017740e+00],\n",
       "       [ 3.97428022e-02,  7.12673923e-01],\n",
       "       [-1.05746921e+00, -1.73107204e-01],\n",
       "       [-2.77982856e-01, -6.58661902e-01],\n",
       "       [ 1.25196701e+00,  1.96319416e+00],\n",
       "       [ 5.14823802e-01, -1.53271343e+00],\n",
       "       [ 9.53640502e-01,  1.45829298e-01],\n",
       "       [-1.44451158e+00, -1.05458525e+00],\n",
       "       [ 1.49936855e+00,  8.37564780e-01],\n",
       "       [ 4.59318175e-01,  2.02136545e+00],\n",
       "       [ 9.48896619e-01,  6.64736602e-01],\n",
       "       [ 5.49595435e-02, -5.89094524e-01],\n",
       "       [ 4.39062040e-01, -1.07091517e+00],\n",
       "       [-7.24267532e-01, -1.29286868e+00],\n",
       "       [ 3.31573028e-01, -1.12014256e+00],\n",
       "       [ 8.33287831e-01,  5.00812264e-02],\n",
       "       [-1.16853129e+00, -2.40046621e-01],\n",
       "       [-6.13896998e-01, -2.61331079e-01],\n",
       "       [ 6.50171256e-01,  4.34487321e-01],\n",
       "       [-6.10768827e-01, -6.39389346e-01],\n",
       "       [-2.12262566e-01, -9.26316755e-01],\n",
       "       [-1.31768199e+00,  2.66205483e-01],\n",
       "       [-5.06132051e-01,  1.94666805e+00],\n",
       "       [-9.20969238e-01, -1.32205590e+00],\n",
       "       [ 1.08953899e+00,  9.24776316e-01],\n",
       "       [ 1.55789742e+00,  1.89862024e+00],\n",
       "       [ 8.79042208e-02,  5.96489556e-01],\n",
       "       [-8.16250296e-01, -2.50617240e+00],\n",
       "       [ 1.28131555e+00, -4.56449554e-02],\n",
       "       [ 1.72282965e+00,  7.03985348e-01],\n",
       "       [-4.15968189e-01, -1.74868480e-02],\n",
       "       [-2.44731437e+00, -1.95023432e+00],\n",
       "       [ 5.24606306e-01,  4.73048902e-01],\n",
       "       [ 6.29518597e-01, -2.44690633e-01],\n",
       "       [-2.62916733e-01,  7.83840957e-01],\n",
       "       [-3.09916140e-01, -1.71968456e+00],\n",
       "       [-5.91722652e-01, -1.08877605e+00],\n",
       "       [ 2.09141555e-01, -1.49914125e-01],\n",
       "       [ 8.83634034e-02,  8.92384598e-01],\n",
       "       [-1.06235485e+00,  3.88489607e-01],\n",
       "       [-1.40253009e+00, -4.19312130e-01],\n",
       "       [ 8.38145457e-01, -2.03049967e-02],\n",
       "       [-6.08168369e-01, -6.76498783e-01],\n",
       "       [-1.38798481e+00, -6.76102943e-01],\n",
       "       [-1.63625514e+00,  1.23849202e+00],\n",
       "       [-7.41386606e-02, -5.19167478e-02],\n",
       "       [ 1.66299192e+00,  3.88238226e-01],\n",
       "       [ 2.00022869e+00,  5.60102198e-01],\n",
       "       [ 3.44500605e-01,  4.31055810e-01],\n",
       "       [ 1.70807479e+00,  1.04620953e-01],\n",
       "       [-8.99418042e-01, -5.18161899e-01],\n",
       "       [-3.06942766e-01, -1.79468474e+00],\n",
       "       [ 7.98678943e-01,  1.12364488e+00],\n",
       "       [ 4.15918839e-01,  1.66753997e+00],\n",
       "       [-8.39707736e-01, -8.29293225e-01],\n",
       "       [-1.16454347e+00, -8.36022216e-03],\n",
       "       [ 4.05137593e-01,  1.00824060e+00],\n",
       "       [ 7.38724951e-01,  4.61855408e-01],\n",
       "       [-6.80711226e-02, -7.38986695e-01],\n",
       "       [ 1.23519665e-02,  1.11759342e+00],\n",
       "       [-1.35597217e-01,  1.05036577e+00],\n",
       "       [ 6.07563756e-01,  4.13271607e-01],\n",
       "       [-9.12560162e-01,  8.73375428e-01],\n",
       "       [ 2.33876976e+00, -8.31844271e-01],\n",
       "       [ 9.82832411e-01,  1.38989727e+00],\n",
       "       [-1.05729213e+00,  6.31506386e-01],\n",
       "       [ 2.17717279e-01, -6.82570051e-01],\n",
       "       [-5.19941385e-01,  2.23575741e-01],\n",
       "       [ 1.24109921e+00,  3.22170582e-01],\n",
       "       [-2.16936320e-01, -2.08829644e+00],\n",
       "       [-8.52193484e-01, -4.32731000e-01],\n",
       "       [-1.68310519e-01,  5.25114893e-01],\n",
       "       [-9.44969708e-01, -1.75660876e-01],\n",
       "       [ 3.19762318e-01, -7.49990664e-01],\n",
       "       [-5.39302853e-02, -1.12606003e+00],\n",
       "       [ 1.49226727e+00,  1.61354287e-01],\n",
       "       [ 4.05537951e-03,  1.45219164e+00],\n",
       "       [ 6.49026733e-01,  1.04801879e+00],\n",
       "       [ 3.66817392e-02,  5.85075826e-02],\n",
       "       [ 1.86585513e-01,  4.55321594e-01],\n",
       "       [ 8.51904631e-01,  3.38995240e-01],\n",
       "       [ 1.07038860e-01,  1.28965516e+00],\n",
       "       [-6.68250531e-01,  4.40753699e-01],\n",
       "       [ 1.43769449e+00,  1.06750571e+00],\n",
       "       [-9.43131439e-01, -1.68156449e+00],\n",
       "       [-5.80304929e-01, -2.28118134e-01],\n",
       "       [-1.62464799e+00, -1.01044274e+00],\n",
       "       [ 4.73536082e-01,  1.48163052e-01],\n",
       "       [ 5.19175625e-01, -1.03465020e-01],\n",
       "       [ 1.27714792e+00,  5.28077245e-01],\n",
       "       [-9.06801879e-01, -7.61540103e-01],\n",
       "       [-8.14101760e-01,  3.24919847e-02],\n",
       "       [ 5.32974834e-01,  1.08394555e+00],\n",
       "       [ 6.99368566e-01, -5.50771551e-01],\n",
       "       [ 6.14338815e-01, -4.52910443e-01],\n",
       "       [ 1.14622603e+00,  5.83308796e-02],\n",
       "       [-7.68429240e-01, -8.42067168e-01],\n",
       "       [ 1.56625416e+00,  1.45208601e+00],\n",
       "       [ 1.22725173e+00,  5.16033059e-01],\n",
       "       [ 1.38194259e-01, -1.95920762e+00],\n",
       "       [-2.22547513e+00, -1.35582636e+00],\n",
       "       [ 2.33473958e+00, -4.52816351e-01],\n",
       "       [ 5.49362487e-01,  3.80614653e-01],\n",
       "       [ 3.75002846e-01,  1.23391367e+00],\n",
       "       [-2.82742223e-01,  3.41199599e-01],\n",
       "       [-5.38271152e-02,  1.36502217e+00],\n",
       "       [ 6.26328054e-01,  7.93334336e-02],\n",
       "       [-2.96625109e-01,  1.62982624e+00],\n",
       "       [ 8.66744561e-01,  4.17004751e-01],\n",
       "       [ 8.17310946e-01, -1.12118771e+00],\n",
       "       [-3.43479148e-01,  2.46335383e+00],\n",
       "       [ 7.71785357e-01,  6.96332268e-01],\n",
       "       [ 1.45003973e-01, -8.20743097e-01],\n",
       "       [-1.51802563e+00, -3.92297130e-01],\n",
       "       [ 1.10186020e+00,  4.66438869e-01],\n",
       "       [-8.45440677e-01,  1.54342785e+00],\n",
       "       [-2.10189220e+00, -3.87320807e-01],\n",
       "       [ 1.73583991e-01,  2.08840082e+00],\n",
       "       [ 9.70752655e-01, -6.70864709e-01],\n",
       "       [ 5.96465666e-01,  1.83176532e-02],\n",
       "       [ 9.04647209e-01,  1.54095225e+00],\n",
       "       [ 2.22149244e-01, -6.91774821e-01],\n",
       "       [ 1.27567080e+00,  1.31211121e+00],\n",
       "       [ 1.24006938e-01,  1.55804475e-01],\n",
       "       [ 4.51535122e-01,  1.05090623e+00],\n",
       "       [-1.02958843e+00, -1.21638714e+00],\n",
       "       [ 1.44992688e-01, -6.31083495e-01],\n",
       "       [-2.48678420e+00, -7.14489172e-01],\n",
       "       [-1.18679537e-01,  2.01924000e-01],\n",
       "       [ 1.76172827e-01, -1.19469285e+00],\n",
       "       [-1.42470000e+00, -8.00017900e-01],\n",
       "       [-5.94766954e-01,  6.73158937e-01],\n",
       "       [-5.85539259e-01, -1.73778103e+00],\n",
       "       [-1.69492603e+00, -4.47111053e-01],\n",
       "       [ 2.83257539e-01,  6.71655234e-01],\n",
       "       [ 5.28961962e-01,  1.37970933e-01],\n",
       "       [-1.11097327e-01, -1.80634597e+00],\n",
       "       [-1.53559744e+00, -7.19838570e-01],\n",
       "       [ 1.01157164e+00,  1.58669563e+00],\n",
       "       [ 1.29918873e+00,  1.17510066e+00],\n",
       "       [-4.52068054e-01,  1.35480157e-01],\n",
       "       [-3.43090210e-01,  1.91593557e-01],\n",
       "       [ 2.92080122e-01,  1.57555086e+00],\n",
       "       [-5.31282468e-01,  5.17412702e-01],\n",
       "       [-2.14223855e-01, -9.68785455e-02],\n",
       "       [-1.08199350e+00, -5.59805665e-01],\n",
       "       [-8.52683671e-01, -1.15805577e+00],\n",
       "       [ 5.29320233e-01,  6.12574963e-01],\n",
       "       [ 3.45392108e-01,  6.39150434e-01],\n",
       "       [-8.08353701e-01,  1.21575930e-01],\n",
       "       [-5.57966934e-01, -7.02250194e-01],\n",
       "       [ 1.10486296e+00,  1.51284129e-01],\n",
       "       [ 1.24647475e+00,  6.41402805e-01],\n",
       "       [-3.56935032e-01,  1.27020730e+00],\n",
       "       [-9.54525728e-01,  3.59762215e-01],\n",
       "       [-3.52838212e-01, -1.18299060e+00],\n",
       "       [ 9.52202941e-02, -3.93599285e-01],\n",
       "       [-4.03421437e-01,  7.43369603e-01],\n",
       "       [-2.81794276e+00, -1.58172280e+00],\n",
       "       [-2.55368210e-01,  5.92657516e-01],\n",
       "       [-1.29959592e+00, -9.38110642e-01],\n",
       "       [-2.31678271e-01, -1.17684594e+00],\n",
       "       [-1.07134118e+00, -6.41980798e-01],\n",
       "       [-3.82243005e-01, -8.07284538e-01],\n",
       "       [ 1.13570621e+00,  1.96501666e+00],\n",
       "       [-6.56159571e-01, -1.68580727e-01],\n",
       "       [ 6.33021132e-01,  2.50715461e-01],\n",
       "       [-4.86810339e-01, -8.59196890e-01],\n",
       "       [ 3.20672014e-01,  1.21768147e-01],\n",
       "       [-1.32456176e+00, -8.82800452e-01],\n",
       "       [ 1.49779995e+00,  9.16146040e-01],\n",
       "       [ 2.11380398e+00,  1.44856381e+00],\n",
       "       [-4.02802823e-01, -7.74289641e-01],\n",
       "       [ 1.25362437e+00,  1.39805254e+00],\n",
       "       [-1.87867269e-01,  1.20855256e+00],\n",
       "       [ 2.89557298e-01,  9.48785772e-01],\n",
       "       [ 7.41692516e-01,  1.27045752e+00],\n",
       "       [-1.25101424e-01, -9.07527064e-01],\n",
       "       [ 9.62951102e-01,  5.30148803e-01],\n",
       "       [ 2.00429475e-01, -2.07497841e-01],\n",
       "       [-2.49789446e-01,  1.47409220e+00],\n",
       "       [ 1.03224075e+00,  7.10506114e-01],\n",
       "       [-9.78255856e-01, -2.78484099e-01],\n",
       "       [ 7.65977798e-01,  2.19863460e+00]])"
      ]
     },
     "execution_count": 19,
     "metadata": {},
     "output_type": "execute_result"
    }
   ],
   "source": [
    "x_train= sc.fit_transform(x_train)\n",
    "x_train"
   ]
  },
  {
   "cell_type": "code",
   "execution_count": 20,
   "id": "442c2205",
   "metadata": {
    "scrolled": true
   },
   "outputs": [
    {
     "data": {
      "text/plain": [
       "array([[ 2.03977742e+00, -3.83989428e-01],\n",
       "       [-1.16238648e+00, -2.74749136e-01],\n",
       "       [ 2.25069161e-02,  1.55609393e+00],\n",
       "       [-1.05446070e+00, -1.40470834e+00],\n",
       "       [-7.81670799e-02, -1.16583901e+00],\n",
       "       [ 2.05879666e+00,  1.03404225e+00],\n",
       "       [ 4.35906493e-01,  1.82944195e+00],\n",
       "       [ 1.55875235e+00,  7.46489556e-01],\n",
       "       [-4.17420689e-01, -8.03456320e-01],\n",
       "       [ 6.44315917e-02, -1.21018159e-01],\n",
       "       [ 9.70133114e-02, -3.64203246e-01],\n",
       "       [-4.19586288e-01, -7.13841559e-01],\n",
       "       [ 6.49764371e-02,  4.51866512e-01],\n",
       "       [ 5.61300740e-01,  5.23903131e-01],\n",
       "       [ 1.30082748e+00,  2.20549315e-01],\n",
       "       [-6.26149705e-01, -2.22238124e-02],\n",
       "       [-8.93669932e-01, -3.71497520e-01],\n",
       "       [-3.82807669e-01, -1.41693199e+00],\n",
       "       [-3.10282420e-02,  1.15333830e+00],\n",
       "       [-1.55326318e+00,  6.27491112e-01],\n",
       "       [ 6.06964069e-02,  1.51046019e+00],\n",
       "       [-8.35437309e-01, -1.80701604e+00],\n",
       "       [ 2.62902573e-01,  9.62013758e-02],\n",
       "       [-9.80920447e-01, -1.78783209e+00],\n",
       "       [ 1.97234580e-01,  1.45392980e+00],\n",
       "       [-1.44360489e+00, -1.19577711e+00],\n",
       "       [ 3.96321425e-01,  1.83663612e+00],\n",
       "       [ 1.92122901e+00,  1.16875592e+00],\n",
       "       [-5.84335427e-01, -2.56971116e+00],\n",
       "       [-8.36994619e-01, -2.81256904e-01],\n",
       "       [-1.16421436e+00, -8.96090286e-01],\n",
       "       [-1.39778248e+00, -7.83926016e-01],\n",
       "       [ 1.07563978e+00,  8.51977205e-01],\n",
       "       [ 7.10329142e-01,  1.07409380e+00],\n",
       "       [-1.51036551e-01, -1.02465426e+00],\n",
       "       [-1.01631649e-01, -1.30168044e-01],\n",
       "       [-4.45620848e-01, -1.33675396e+00],\n",
       "       [ 1.10429606e+00,  1.33108262e+00],\n",
       "       [ 1.32491024e+00,  9.87114588e-01],\n",
       "       [ 6.41811858e-02, -1.11261005e-01],\n",
       "       [-3.70878450e-02, -6.16151939e-02],\n",
       "       [-1.57142914e+00, -7.12809991e-01],\n",
       "       [ 4.06450680e-01,  6.30822975e-01],\n",
       "       [-6.15823708e-02,  1.11770020e+00],\n",
       "       [ 8.91524120e-01, -3.88960959e-01],\n",
       "       [ 3.94576590e-01, -2.46070191e-01],\n",
       "       [-3.09746012e+00, -2.97842152e-01],\n",
       "       [-5.66227078e-01, -7.16363015e-02],\n",
       "       [ 1.18407097e+00, -4.75600962e-01],\n",
       "       [-9.52173958e-01, -6.85134514e-01],\n",
       "       [ 1.89594254e+00,  8.62393783e-01],\n",
       "       [ 1.98808742e+00,  2.88989749e-02],\n",
       "       [-1.75572427e+00,  4.53509377e-01],\n",
       "       [ 2.23991016e-01,  3.70284788e-01],\n",
       "       [ 9.70625970e-01,  7.91610760e-02],\n",
       "       [-8.19205507e-01, -1.67412800e+00],\n",
       "       [-1.10655634e+00, -9.41688007e-01],\n",
       "       [ 8.67885820e-04,  2.74346545e-01],\n",
       "       [ 7.89126082e-02,  1.50593562e-01],\n",
       "       [-2.93890232e-01,  6.35432906e-01],\n",
       "       [-9.32444968e-01, -4.94330958e-02],\n",
       "       [-8.45595576e-01, -4.84763580e-01],\n",
       "       [ 1.50583124e+00,  1.75851075e+00],\n",
       "       [-1.37013780e+00, -1.37004943e+00],\n",
       "       [-5.17394932e-01,  1.54046232e+00],\n",
       "       [-3.86560111e-01, -2.04470323e+00],\n",
       "       [-7.26545941e-01, -8.35150997e-01],\n",
       "       [ 5.87561091e-01, -8.91516346e-03],\n",
       "       [ 1.51784158e+00,  5.68405092e-01],\n",
       "       [ 2.38978560e-01,  8.71610798e-01],\n",
       "       [ 6.36415393e-01, -5.12416871e-01],\n",
       "       [ 3.59040837e-01, -4.12006320e-01],\n",
       "       [-3.85016627e-01,  8.43843699e-01],\n",
       "       [ 3.55278570e-01,  8.99190264e-01],\n",
       "       [ 2.24052540e+00, -5.09428580e-01],\n",
       "       [ 8.11502199e-01,  3.81161155e-01],\n",
       "       [-1.14335750e+00, -1.46681487e+00],\n",
       "       [ 9.60435860e-01,  1.45711064e+00],\n",
       "       [ 3.21049731e-01,  3.74197709e-02],\n",
       "       [ 2.64168389e-01,  1.53458931e+00],\n",
       "       [ 8.06681292e-01,  7.59132622e-01],\n",
       "       [ 1.28691575e+00,  2.92908531e-01],\n",
       "       [ 9.95619705e-02, -1.78131575e+00],\n",
       "       [-1.75645689e+00,  3.25966568e-01],\n",
       "       [-5.94404949e-01,  2.66471091e-01],\n",
       "       [-2.62255829e-01,  6.67456510e-01],\n",
       "       [-1.57779067e-01, -9.29672661e-01],\n",
       "       [ 1.13415646e+00, -6.27930712e-01],\n",
       "       [ 8.36564132e-01,  5.50654103e-01],\n",
       "       [-2.18911227e+00, -1.50875727e+00],\n",
       "       [ 6.28825045e-01,  7.40447202e-01],\n",
       "       [-7.09460979e-01, -1.07101438e-01],\n",
       "       [-2.24463276e-01, -1.77651932e+00],\n",
       "       [ 1.75734771e+00,  1.37459271e-01],\n",
       "       [-2.32909796e+00,  5.67577831e-02],\n",
       "       [-4.69165039e-01,  4.74261718e-01],\n",
       "       [ 6.63605295e-01,  7.66180339e-01],\n",
       "       [-3.86026495e-01, -8.34685818e-01],\n",
       "       [-9.19466943e-01, -4.57239145e-01],\n",
       "       [-4.31728013e-01, -7.28969183e-01]])"
      ]
     },
     "execution_count": 20,
     "metadata": {},
     "output_type": "execute_result"
    }
   ],
   "source": [
    "x_test= sc.transform(x_test)\n",
    "x_test"
   ]
  },
  {
   "cell_type": "markdown",
   "id": "d862987b",
   "metadata": {},
   "source": [
    "# Re-training the model:"
   ]
  },
  {
   "cell_type": "code",
   "execution_count": 21,
   "id": "c7a5485b",
   "metadata": {},
   "outputs": [
    {
     "data": {
      "text/plain": [
       "LogisticRegression()"
      ]
     },
     "execution_count": 21,
     "metadata": {},
     "output_type": "execute_result"
    }
   ],
   "source": [
    "from sklearn.linear_model import LogisticRegression\n",
    "logit = LogisticRegression()\n",
    "logit.fit(x_train,y_train)"
   ]
  },
  {
   "cell_type": "code",
   "execution_count": 22,
   "id": "832d4df8",
   "metadata": {},
   "outputs": [
    {
     "data": {
      "text/plain": [
       "array([0, 1, 0, 1, 0, 1, 1, 1, 1, 0, 1, 1, 1, 1, 1, 0, 1, 0, 0, 1, 1, 1,\n",
       "       0, 0, 1, 0, 0, 0, 0, 0, 0, 1, 1, 0, 1, 1, 1, 0, 0, 1, 0, 1, 1, 1,\n",
       "       0, 1, 0, 1, 0, 1, 1, 0, 0, 0, 1, 0, 0, 0, 0, 1, 0, 1, 1, 0, 1, 0,\n",
       "       1, 0, 0, 0, 1, 1, 0, 1, 1, 0, 1, 0, 0, 1, 1, 1, 1, 0, 0, 0, 0, 1,\n",
       "       0, 0, 1, 0, 1, 1, 0, 1, 1, 1, 0, 1, 1, 0, 1, 0, 0, 0, 1, 0, 1, 0,\n",
       "       0, 0, 1, 1, 0, 0, 0, 0, 1, 0, 1, 1, 1, 0, 1, 0, 1, 0, 1, 1, 0, 1,\n",
       "       0, 0, 1, 1, 1, 0, 1, 0, 1, 1, 0, 0, 0, 0, 0, 0, 1, 1, 1, 0, 0, 0,\n",
       "       1, 0, 0, 1, 1, 0, 1, 1, 1, 0, 0, 0, 0, 0, 0, 0, 0, 1, 1, 1, 1, 0,\n",
       "       0, 0, 0, 0, 1, 1, 0, 1, 1, 0, 1, 0, 1, 1, 1, 0, 0, 1, 0, 0, 0, 1,\n",
       "       1, 0, 0, 1, 0, 0, 0, 1, 0, 0, 1, 0, 0, 1, 1, 0, 0, 1, 1, 0, 0, 1,\n",
       "       0, 1, 0, 1, 1, 1, 0, 0, 0, 0, 1, 0, 0, 1, 0, 0, 0, 1, 0, 1, 1, 1,\n",
       "       0, 1, 1, 0, 0, 1, 1, 1, 0, 0, 1, 1, 0, 0, 1, 0, 0, 0, 0, 1, 1, 1,\n",
       "       1, 0, 0, 1, 1, 0, 0, 1, 1, 0, 1, 1, 1, 0, 1, 1, 0, 0, 0, 1, 0, 0,\n",
       "       1, 0, 0, 0, 1, 1, 1, 1, 1, 1, 1, 0, 1, 0, 0, 0, 1, 1, 1, 0, 0, 1,\n",
       "       1, 1, 1, 0, 1, 1, 0, 0, 1, 1, 1, 1, 1, 1, 1, 1, 0, 1, 1, 0, 0, 1,\n",
       "       1, 0, 1, 1, 1, 1, 0, 1, 1, 1, 0, 0, 0, 1, 0, 0, 0, 0, 0, 1, 1, 0,\n",
       "       0, 1, 1, 0, 0, 1, 0, 0, 0, 0, 1, 1, 0, 0, 1, 1, 1, 0, 0, 0, 1, 0,\n",
       "       1, 0, 0, 0, 0, 1, 0, 1, 0, 1, 0, 1, 1, 0, 1, 1, 1, 1, 0, 1, 1, 1,\n",
       "       1, 0, 1], dtype=int64)"
      ]
     },
     "execution_count": 22,
     "metadata": {},
     "output_type": "execute_result"
    }
   ],
   "source": [
    "y_trainpred = logit.predict(x_train)\n",
    "y_trainpred"
   ]
  },
  {
   "cell_type": "code",
   "execution_count": 23,
   "id": "8e678371",
   "metadata": {},
   "outputs": [
    {
     "name": "stdout",
     "output_type": "stream",
     "text": [
      "Accuracy score: 0.924812030075188\n"
     ]
    }
   ],
   "source": [
    "print(\"Accuracy score:\",np.mean(y_trainpred== y_train))"
   ]
  },
  {
   "cell_type": "code",
   "execution_count": 24,
   "id": "94484902",
   "metadata": {},
   "outputs": [
    {
     "data": {
      "text/plain": [
       "0.924812030075188"
      ]
     },
     "execution_count": 24,
     "metadata": {},
     "output_type": "execute_result"
    }
   ],
   "source": [
    "accuracy_score(y_train,y_trainpred)"
   ]
  },
  {
   "cell_type": "code",
   "execution_count": 25,
   "id": "eec0d7c4",
   "metadata": {},
   "outputs": [
    {
     "data": {
      "text/plain": [
       "LogisticRegression()"
      ]
     },
     "execution_count": 25,
     "metadata": {},
     "output_type": "execute_result"
    }
   ],
   "source": [
    "# test prediction\n",
    "logit.fit(x_test,y_test)"
   ]
  },
  {
   "cell_type": "code",
   "execution_count": 26,
   "id": "7e2d8314",
   "metadata": {},
   "outputs": [
    {
     "data": {
      "text/plain": [
       "array([1, 0, 1, 0, 0, 1, 1, 1, 0, 0, 0, 0, 1, 1, 1, 0, 0, 0, 1, 0, 1, 0,\n",
       "       1, 0, 1, 0, 1, 1, 0, 0, 0, 0, 1, 1, 0, 0, 0, 1, 1, 0, 0, 0, 1, 1,\n",
       "       1, 1, 0, 0, 1, 0, 1, 1, 0, 1, 1, 0, 0, 1, 1, 1, 0, 0, 1, 0, 1, 0,\n",
       "       0, 1, 1, 1, 1, 0, 1, 1, 1, 1, 0, 1, 1, 1, 1, 1, 0, 0, 0, 1, 0, 1,\n",
       "       1, 0, 1, 0, 0, 1, 0, 1, 1, 0, 0, 0], dtype=int64)"
      ]
     },
     "execution_count": 26,
     "metadata": {},
     "output_type": "execute_result"
    }
   ],
   "source": [
    "y_testpred = logit.predict(x_test)\n",
    "y_testpred"
   ]
  },
  {
   "cell_type": "code",
   "execution_count": 27,
   "id": "0be849d0",
   "metadata": {},
   "outputs": [
    {
     "name": "stdout",
     "output_type": "stream",
     "text": [
      "Accuracy score: 0.87\n"
     ]
    }
   ],
   "source": [
    "print(\"Accuracy score:\",np.mean(y_testpred== y_test))"
   ]
  },
  {
   "cell_type": "code",
   "execution_count": 28,
   "id": "03389448",
   "metadata": {},
   "outputs": [
    {
     "data": {
      "text/plain": [
       "0.87"
      ]
     },
     "execution_count": 28,
     "metadata": {},
     "output_type": "execute_result"
    }
   ],
   "source": [
    "accuracy_score(y_test,y_testpred)"
   ]
  },
  {
   "cell_type": "code",
   "execution_count": 29,
   "id": "52e914ea",
   "metadata": {},
   "outputs": [
    {
     "data": {
      "text/plain": [
       "array([[42,  7],\n",
       "       [ 6, 45]], dtype=int64)"
      ]
     },
     "execution_count": 29,
     "metadata": {},
     "output_type": "execute_result"
    }
   ],
   "source": [
    "confusion_matrix(y_test,y_testpred)"
   ]
  }
 ],
 "metadata": {
  "kernelspec": {
   "display_name": "Python 3",
   "language": "python",
   "name": "python3"
  },
  "language_info": {
   "codemirror_mode": {
    "name": "ipython",
    "version": 3
   },
   "file_extension": ".py",
   "mimetype": "text/x-python",
   "name": "python",
   "nbconvert_exporter": "python",
   "pygments_lexer": "ipython3",
   "version": "3.8.8"
  }
 },
 "nbformat": 4,
 "nbformat_minor": 5
}
