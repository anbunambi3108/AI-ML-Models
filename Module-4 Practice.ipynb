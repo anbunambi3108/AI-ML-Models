{
 "cells": [
  {
   "cell_type": "markdown",
   "id": "ebc4ac5e",
   "metadata": {},
   "source": [
    "# Module-4 Supervised Classification\n",
    "- KNN\n",
    "- Naive Baye's classifier\n",
    "- Evaluation metrics: ROC , confusion matrix,precision and recall , F1 score"
   ]
  },
  {
   "cell_type": "markdown",
   "id": "bcc8c138",
   "metadata": {},
   "source": [
    "# Supervised Classification:\n",
    "- Supervised learning is when the model is trained on a labeled dataset , it is up to the algorithm to  classify data or predict outcomes accurately.\n",
    "- Supervised learning helps organizations solve for a variety of real-world problems at scale, such as classifying spam in a separate folder from your inbox."
   ]
  },
  {
   "cell_type": "markdown",
   "id": "8a11f03b",
   "metadata": {},
   "source": [
    "# K-nearest neighbour Classification\n",
    "\n",
    "- knn is a classification algorithm\n",
    "- knn works by finding the most similar data points in the training data and attempt to make a educated guess based on their classification\n",
    "- algorithm steps:\n",
    "    - select a value for k\n",
    "    - calculate the euclidean diatance between the point to be classified and every other point in the training data-set\n",
    "    - pick the k closest data points\n",
    "    - choose the data point which has the high vote "
   ]
  },
  {
   "cell_type": "markdown",
   "id": "f96b9e70",
   "metadata": {},
   "source": [
    "### 1. Import libraries"
   ]
  },
  {
   "cell_type": "code",
   "execution_count": 1,
   "id": "ccfa7aab",
   "metadata": {},
   "outputs": [],
   "source": [
    "import numpy as np\n",
    "import pandas as pd\n",
    "import matplotlib.pyplot as plt\n",
    "import seaborn as sns"
   ]
  },
  {
   "cell_type": "markdown",
   "id": "a09898b2",
   "metadata": {},
   "source": [
    "### 2. Import dataset"
   ]
  },
  {
   "cell_type": "code",
   "execution_count": 2,
   "id": "1d0aedf5",
   "metadata": {},
   "outputs": [
    {
     "data": {
      "text/html": [
       "<div>\n",
       "<style scoped>\n",
       "    .dataframe tbody tr th:only-of-type {\n",
       "        vertical-align: middle;\n",
       "    }\n",
       "\n",
       "    .dataframe tbody tr th {\n",
       "        vertical-align: top;\n",
       "    }\n",
       "\n",
       "    .dataframe thead th {\n",
       "        text-align: right;\n",
       "    }\n",
       "</style>\n",
       "<table border=\"1\" class=\"dataframe\">\n",
       "  <thead>\n",
       "    <tr style=\"text-align: right;\">\n",
       "      <th></th>\n",
       "      <th>SepalLengthCm</th>\n",
       "      <th>SepalWidthCm</th>\n",
       "      <th>PetalLengthCm</th>\n",
       "      <th>PetalWidthCm</th>\n",
       "      <th>Species</th>\n",
       "    </tr>\n",
       "  </thead>\n",
       "  <tbody>\n",
       "    <tr>\n",
       "      <th>0</th>\n",
       "      <td>5.1</td>\n",
       "      <td>3.5</td>\n",
       "      <td>1.4</td>\n",
       "      <td>0.2</td>\n",
       "      <td>Iris-setosa</td>\n",
       "    </tr>\n",
       "    <tr>\n",
       "      <th>1</th>\n",
       "      <td>4.9</td>\n",
       "      <td>3.0</td>\n",
       "      <td>1.4</td>\n",
       "      <td>0.2</td>\n",
       "      <td>Iris-setosa</td>\n",
       "    </tr>\n",
       "    <tr>\n",
       "      <th>2</th>\n",
       "      <td>4.7</td>\n",
       "      <td>3.2</td>\n",
       "      <td>1.3</td>\n",
       "      <td>0.2</td>\n",
       "      <td>Iris-setosa</td>\n",
       "    </tr>\n",
       "    <tr>\n",
       "      <th>3</th>\n",
       "      <td>4.6</td>\n",
       "      <td>3.1</td>\n",
       "      <td>1.5</td>\n",
       "      <td>0.2</td>\n",
       "      <td>Iris-setosa</td>\n",
       "    </tr>\n",
       "    <tr>\n",
       "      <th>4</th>\n",
       "      <td>5.0</td>\n",
       "      <td>3.6</td>\n",
       "      <td>1.4</td>\n",
       "      <td>0.2</td>\n",
       "      <td>Iris-setosa</td>\n",
       "    </tr>\n",
       "  </tbody>\n",
       "</table>\n",
       "</div>"
      ],
      "text/plain": [
       "   SepalLengthCm  SepalWidthCm  PetalLengthCm  PetalWidthCm      Species\n",
       "0            5.1           3.5            1.4           0.2  Iris-setosa\n",
       "1            4.9           3.0            1.4           0.2  Iris-setosa\n",
       "2            4.7           3.2            1.3           0.2  Iris-setosa\n",
       "3            4.6           3.1            1.5           0.2  Iris-setosa\n",
       "4            5.0           3.6            1.4           0.2  Iris-setosa"
      ]
     },
     "execution_count": 2,
     "metadata": {},
     "output_type": "execute_result"
    }
   ],
   "source": [
    "data=pd.read_csv('Iris.csv')\n",
    "data.head()"
   ]
  },
  {
   "cell_type": "code",
   "execution_count": 3,
   "id": "e30a46af",
   "metadata": {},
   "outputs": [],
   "source": [
    "x=data.iloc[:,:-1].values\n",
    "y=data.iloc[:,-1].values"
   ]
  },
  {
   "cell_type": "markdown",
   "id": "b7372f08",
   "metadata": {},
   "source": [
    "### 3. Taking care of missing data"
   ]
  },
  {
   "cell_type": "code",
   "execution_count": 4,
   "id": "a9d74d7c",
   "metadata": {},
   "outputs": [
    {
     "data": {
      "text/plain": [
       "SepalLengthCm    0\n",
       "SepalWidthCm     0\n",
       "PetalLengthCm    0\n",
       "PetalWidthCm     0\n",
       "Species          0\n",
       "dtype: int64"
      ]
     },
     "execution_count": 4,
     "metadata": {},
     "output_type": "execute_result"
    }
   ],
   "source": [
    "data.isna().sum()"
   ]
  },
  {
   "cell_type": "markdown",
   "id": "087919e1",
   "metadata": {},
   "source": [
    "### 4. Visualise the data"
   ]
  },
  {
   "cell_type": "code",
   "execution_count": 5,
   "id": "2a2ecff2",
   "metadata": {},
   "outputs": [
    {
     "data": {
      "text/plain": [
       "<seaborn.axisgrid.PairGrid at 0x230d50c9610>"
      ]
     },
     "execution_count": 5,
     "metadata": {},
     "output_type": "execute_result"
    },
    {
     "data": {
      "image/png": "[encoded data removed]",
      "text/plain": [
       "<Figure size 823.25x720 with 20 Axes>"
      ]
     },
     "metadata": {
      "needs_background": "light"
     },
     "output_type": "display_data"
    }
   ],
   "source": [
    "sns.pairplot(data,hue='Species')"
   ]
  },
  {
   "cell_type": "markdown",
   "id": "21cd5c89",
   "metadata": {},
   "source": [
    "### 5. Splitting the train and test set"
   ]
  },
  {
   "cell_type": "code",
   "execution_count": 6,
   "id": "04f6629f",
   "metadata": {},
   "outputs": [],
   "source": [
    "from sklearn.model_selection import train_test_split as tts\n",
    "x_test,x_train,y_test,y_train=tts(x,y,test_size=0.25)"
   ]
  },
  {
   "cell_type": "markdown",
   "id": "cf5e28c1",
   "metadata": {},
   "source": [
    "### 6. Train the model"
   ]
  },
  {
   "cell_type": "code",
   "execution_count": 7,
   "id": "b5dcbb8d",
   "metadata": {},
   "outputs": [],
   "source": [
    "from sklearn.neighbors import KNeighborsClassifier as knn\n",
    "classifier = knn(n_neighbors=2)"
   ]
  },
  {
   "cell_type": "code",
   "execution_count": 8,
   "id": "3e3c3223",
   "metadata": {},
   "outputs": [
    {
     "data": {
      "text/plain": [
       "KNeighborsClassifier(n_neighbors=2)"
      ]
     },
     "execution_count": 8,
     "metadata": {},
     "output_type": "execute_result"
    }
   ],
   "source": [
    "classifier.fit(x_train,y_train)"
   ]
  },
  {
   "cell_type": "markdown",
   "id": "f4187817",
   "metadata": {},
   "source": [
    "### 7. Evaluate the model"
   ]
  },
  {
   "cell_type": "code",
   "execution_count": 9,
   "id": "12f22b92",
   "metadata": {},
   "outputs": [],
   "source": [
    "from sklearn.metrics import accuracy_score,confusion_matrix"
   ]
  },
  {
   "cell_type": "code",
   "execution_count": 10,
   "id": "d3a08a9a",
   "metadata": {},
   "outputs": [],
   "source": [
    "y_pred = classifier.predict(x_test)"
   ]
  },
  {
   "cell_type": "code",
   "execution_count": 11,
   "id": "de1b6a00",
   "metadata": {},
   "outputs": [
    {
     "data": {
      "text/plain": [
       "0.9017857142857143"
      ]
     },
     "execution_count": 11,
     "metadata": {},
     "output_type": "execute_result"
    }
   ],
   "source": [
    "acc = accuracy_score(y_test,y_pred)\n",
    "acc"
   ]
  },
  {
   "cell_type": "code",
   "execution_count": 12,
   "id": "5933d688",
   "metadata": {},
   "outputs": [
    {
     "data": {
      "text/plain": [
       "array([[41,  0,  0],\n",
       "       [ 0, 34,  0],\n",
       "       [ 0, 11, 26]], dtype=int64)"
      ]
     },
     "execution_count": 12,
     "metadata": {},
     "output_type": "execute_result"
    }
   ],
   "source": [
    "cm = confusion_matrix(y_test,y_pred)\n",
    "cm"
   ]
  },
  {
   "cell_type": "code",
   "execution_count": 13,
   "id": "7e332834",
   "metadata": {},
   "outputs": [
    {
     "data": {
      "text/plain": [
       "<AxesSubplot:>"
      ]
     },
     "execution_count": 13,
     "metadata": {},
     "output_type": "execute_result"
    },
    {
     "data": {
      "image/png": "[encoded data removed]",
      "text/plain": [
       "<Figure size 432x288 with 2 Axes>"
      ]
     },
     "metadata": {
      "needs_background": "light"
     },
     "output_type": "display_data"
    }
   ],
   "source": [
    "sns.heatmap(cm,cmap=\"YlGnBu\",annot=True)"
   ]
  },
  {
   "cell_type": "markdown",
   "id": "1fd8ce3a",
   "metadata": {},
   "source": [
    "### Logistic-Multinomial Classification\n",
    "- in multiclass the training algorith uses the one ve rest sccheme\n",
    "- For ‘multinomial’ the loss minimised is the multinomial loss fit across the entire probability distribution, even when the data is binary"
   ]
  },
  {
   "cell_type": "code",
   "execution_count": 14,
   "id": "c1c10ea5",
   "metadata": {},
   "outputs": [],
   "source": [
    "from sklearn.linear_model import LogisticRegression as LogR\n",
    "model = LogR(multi_class=\"multinomial\")"
   ]
  },
  {
   "cell_type": "code",
   "execution_count": 15,
   "id": "b10e3be0",
   "metadata": {},
   "outputs": [
    {
     "data": {
      "text/plain": [
       "LogisticRegression(multi_class='multinomial')"
      ]
     },
     "execution_count": 15,
     "metadata": {},
     "output_type": "execute_result"
    }
   ],
   "source": [
    "model.fit(x_train,y_train)"
   ]
  },
  {
   "cell_type": "code",
   "execution_count": 16,
   "id": "bf042748",
   "metadata": {},
   "outputs": [
    {
     "data": {
      "text/plain": [
       "array(['Iris-versicolor', 'Iris-versicolor', 'Iris-virginica',\n",
       "       'Iris-setosa', 'Iris-setosa', 'Iris-setosa', 'Iris-virginica',\n",
       "       'Iris-setosa', 'Iris-versicolor', 'Iris-setosa', 'Iris-virginica',\n",
       "       'Iris-setosa', 'Iris-versicolor', 'Iris-versicolor', 'Iris-setosa',\n",
       "       'Iris-versicolor', 'Iris-setosa', 'Iris-setosa', 'Iris-versicolor',\n",
       "       'Iris-versicolor', 'Iris-versicolor', 'Iris-virginica',\n",
       "       'Iris-versicolor', 'Iris-versicolor', 'Iris-setosa',\n",
       "       'Iris-virginica', 'Iris-virginica', 'Iris-versicolor',\n",
       "       'Iris-setosa', 'Iris-setosa', 'Iris-versicolor', 'Iris-setosa',\n",
       "       'Iris-versicolor', 'Iris-virginica', 'Iris-versicolor',\n",
       "       'Iris-setosa', 'Iris-virginica', 'Iris-versicolor',\n",
       "       'Iris-versicolor', 'Iris-virginica', 'Iris-setosa', 'Iris-setosa',\n",
       "       'Iris-versicolor', 'Iris-virginica', 'Iris-virginica',\n",
       "       'Iris-setosa', 'Iris-setosa', 'Iris-setosa', 'Iris-setosa',\n",
       "       'Iris-setosa', 'Iris-virginica', 'Iris-versicolor', 'Iris-setosa',\n",
       "       'Iris-versicolor', 'Iris-setosa', 'Iris-versicolor', 'Iris-setosa',\n",
       "       'Iris-versicolor', 'Iris-versicolor', 'Iris-versicolor',\n",
       "       'Iris-versicolor', 'Iris-setosa', 'Iris-virginica', 'Iris-setosa',\n",
       "       'Iris-setosa', 'Iris-setosa', 'Iris-virginica', 'Iris-setosa',\n",
       "       'Iris-versicolor', 'Iris-setosa', 'Iris-versicolor',\n",
       "       'Iris-virginica', 'Iris-setosa', 'Iris-setosa', 'Iris-virginica',\n",
       "       'Iris-versicolor', 'Iris-setosa', 'Iris-versicolor',\n",
       "       'Iris-versicolor', 'Iris-virginica', 'Iris-virginica',\n",
       "       'Iris-versicolor', 'Iris-setosa', 'Iris-setosa', 'Iris-virginica',\n",
       "       'Iris-setosa', 'Iris-versicolor', 'Iris-setosa', 'Iris-virginica',\n",
       "       'Iris-versicolor', 'Iris-virginica', 'Iris-setosa',\n",
       "       'Iris-virginica', 'Iris-virginica', 'Iris-versicolor',\n",
       "       'Iris-virginica', 'Iris-virginica', 'Iris-virginica',\n",
       "       'Iris-setosa', 'Iris-virginica', 'Iris-virginica',\n",
       "       'Iris-versicolor', 'Iris-virginica', 'Iris-versicolor',\n",
       "       'Iris-setosa', 'Iris-virginica', 'Iris-versicolor',\n",
       "       'Iris-virginica', 'Iris-versicolor', 'Iris-setosa',\n",
       "       'Iris-virginica', 'Iris-virginica'], dtype=object)"
      ]
     },
     "execution_count": 16,
     "metadata": {},
     "output_type": "execute_result"
    }
   ],
   "source": [
    "y_pred = model.predict(x_test)\n",
    "y_pred"
   ]
  },
  {
   "cell_type": "code",
   "execution_count": 17,
   "id": "ea90e15e",
   "metadata": {},
   "outputs": [
    {
     "data": {
      "text/plain": [
       "0.9464285714285714"
      ]
     },
     "execution_count": 17,
     "metadata": {},
     "output_type": "execute_result"
    }
   ],
   "source": [
    "as1=accuracy_score(y_test,y_pred)\n",
    "as1"
   ]
  },
  {
   "cell_type": "code",
   "execution_count": 18,
   "id": "91eaaa75",
   "metadata": {},
   "outputs": [
    {
     "data": {
      "text/plain": [
       "array([[41,  0,  0],\n",
       "       [ 0, 33,  1],\n",
       "       [ 0,  5, 32]], dtype=int64)"
      ]
     },
     "execution_count": 18,
     "metadata": {},
     "output_type": "execute_result"
    }
   ],
   "source": [
    "cm1=confusion_matrix(y_test,y_pred)\n",
    "cm1"
   ]
  },
  {
   "cell_type": "code",
   "execution_count": 19,
   "id": "88516a11",
   "metadata": {},
   "outputs": [
    {
     "data": {
      "text/plain": [
       "<AxesSubplot:>"
      ]
     },
     "execution_count": 19,
     "metadata": {},
     "output_type": "execute_result"
    },
    {
     "data": {
      "image/png": "[encoded data removed]",
      "text/plain": [
       "<Figure size 432x288 with 2 Axes>"
      ]
     },
     "metadata": {
      "needs_background": "light"
     },
     "output_type": "display_data"
    }
   ],
   "source": [
    "sns.heatmap(cm1,cmap=\"RdPu\",annot=True)"
   ]
  },
  {
   "cell_type": "markdown",
   "id": "ea7bc3fe",
   "metadata": {},
   "source": [
    "# Naive Bayes Classifier using Feature Extraction\n",
    "\n",
    "- it is a classification technique based on Baye's Theorem\n",
    "- it is naive because it assumes that the presence of the certain features in a class is incependent of the presence of the other features"
   ]
  },
  {
   "cell_type": "markdown",
   "id": "b8b1fdf6",
   "metadata": {},
   "source": [
    "### 1. Import libraries"
   ]
  },
  {
   "cell_type": "code",
   "execution_count": 20,
   "id": "0b3d7703",
   "metadata": {},
   "outputs": [],
   "source": [
    "import numpy as np\n",
    "import pandas as pd\n",
    "import matplotlib.pyplot as plt\n",
    "import seaborn as sns"
   ]
  },
  {
   "cell_type": "markdown",
   "id": "9f1d166b",
   "metadata": {},
   "source": [
    "### 2. Import dataset"
   ]
  },
  {
   "cell_type": "code",
   "execution_count": 21,
   "id": "571e4364",
   "metadata": {},
   "outputs": [
    {
     "data": {
      "text/html": [
       "<div>\n",
       "<style scoped>\n",
       "    .dataframe tbody tr th:only-of-type {\n",
       "        vertical-align: middle;\n",
       "    }\n",
       "\n",
       "    .dataframe tbody tr th {\n",
       "        vertical-align: top;\n",
       "    }\n",
       "\n",
       "    .dataframe thead th {\n",
       "        text-align: right;\n",
       "    }\n",
       "</style>\n",
       "<table border=\"1\" class=\"dataframe\">\n",
       "  <thead>\n",
       "    <tr style=\"text-align: right;\">\n",
       "      <th></th>\n",
       "      <th>text</th>\n",
       "      <th>spam</th>\n",
       "    </tr>\n",
       "  </thead>\n",
       "  <tbody>\n",
       "    <tr>\n",
       "      <th>0</th>\n",
       "      <td>Subject: naturally irresistible your corporate...</td>\n",
       "      <td>1</td>\n",
       "    </tr>\n",
       "    <tr>\n",
       "      <th>1</th>\n",
       "      <td>Subject: the stock trading gunslinger  fanny i...</td>\n",
       "      <td>1</td>\n",
       "    </tr>\n",
       "    <tr>\n",
       "      <th>2</th>\n",
       "      <td>Subject: unbelievable new homes made easy  im ...</td>\n",
       "      <td>1</td>\n",
       "    </tr>\n",
       "    <tr>\n",
       "      <th>3</th>\n",
       "      <td>Subject: 4 color printing special  request add...</td>\n",
       "      <td>1</td>\n",
       "    </tr>\n",
       "    <tr>\n",
       "      <th>4</th>\n",
       "      <td>Subject: do not have money , get software cds ...</td>\n",
       "      <td>1</td>\n",
       "    </tr>\n",
       "  </tbody>\n",
       "</table>\n",
       "</div>"
      ],
      "text/plain": [
       "                                                text  spam\n",
       "0  Subject: naturally irresistible your corporate...     1\n",
       "1  Subject: the stock trading gunslinger  fanny i...     1\n",
       "2  Subject: unbelievable new homes made easy  im ...     1\n",
       "3  Subject: 4 color printing special  request add...     1\n",
       "4  Subject: do not have money , get software cds ...     1"
      ]
     },
     "execution_count": 21,
     "metadata": {},
     "output_type": "execute_result"
    }
   ],
   "source": [
    "dataset = pd.read_csv(\"emails.csv\")\n",
    "dataset.head()"
   ]
  },
  {
   "cell_type": "markdown",
   "id": "4da0d039",
   "metadata": {},
   "source": [
    "### 3. Feature Extraction: \n",
    "- sklearn.feature_extraction.text.CountVectorizer : Convert a collection of text documents to a matrix of token counts.\n",
    "- since the credit card data has big text formats we are now conveting it to a matix using this"
   ]
  },
  {
   "cell_type": "code",
   "execution_count": 22,
   "id": "505cfc18",
   "metadata": {},
   "outputs": [],
   "source": [
    "from sklearn.feature_extraction.text import CountVectorizer\n",
    "vectorizer = CountVectorizer()"
   ]
  },
  {
   "cell_type": "code",
   "execution_count": 23,
   "id": "6ca154ef",
   "metadata": {},
   "outputs": [],
   "source": [
    "X = vectorizer.fit_transform(dataset[\"text\"])"
   ]
  },
  {
   "cell_type": "code",
   "execution_count": 24,
   "id": "84e004d9",
   "metadata": {},
   "outputs": [
    {
     "data": {
      "text/plain": [
       "<5728x37303 sparse matrix of type '<class 'numpy.int64'>'\n",
       "\twith 708380 stored elements in Compressed Sparse Row format>"
      ]
     },
     "execution_count": 24,
     "metadata": {},
     "output_type": "execute_result"
    }
   ],
   "source": [
    "X"
   ]
  },
  {
   "cell_type": "code",
   "execution_count": 25,
   "id": "0024e527",
   "metadata": {},
   "outputs": [
    {
     "name": "stdout",
     "output_type": "stream",
     "text": [
      "(5728, 37303)\n"
     ]
    }
   ],
   "source": [
    "newX = X.toarray()\n",
    "print(newX.shape)"
   ]
  },
  {
   "cell_type": "code",
   "execution_count": 26,
   "id": "e9efc08f",
   "metadata": {},
   "outputs": [],
   "source": [
    "y = dataset.iloc[:,-1].values"
   ]
  },
  {
   "cell_type": "code",
   "execution_count": 27,
   "id": "038a4c30",
   "metadata": {},
   "outputs": [
    {
     "data": {
      "text/plain": [
       "((5728, 37303), (5728,))"
      ]
     },
     "execution_count": 27,
     "metadata": {},
     "output_type": "execute_result"
    }
   ],
   "source": [
    "newX.shape, y.shape"
   ]
  },
  {
   "cell_type": "markdown",
   "id": "5a6c28d0",
   "metadata": {},
   "source": [
    "### 4. Taking care of missing data"
   ]
  },
  {
   "cell_type": "code",
   "execution_count": 28,
   "id": "0ec43d1a",
   "metadata": {},
   "outputs": [
    {
     "name": "stdout",
     "output_type": "stream",
     "text": [
      "<class 'pandas.core.frame.DataFrame'>\n",
      "RangeIndex: 5728 entries, 0 to 5727\n",
      "Data columns (total 2 columns):\n",
      " #   Column  Non-Null Count  Dtype \n",
      "---  ------  --------------  ----- \n",
      " 0   text    5728 non-null   object\n",
      " 1   spam    5728 non-null   int64 \n",
      "dtypes: int64(1), object(1)\n",
      "memory usage: 89.6+ KB\n"
     ]
    }
   ],
   "source": [
    "dataset.info()"
   ]
  },
  {
   "cell_type": "markdown",
   "id": "62f8d8ef",
   "metadata": {},
   "source": [
    "### 5. Visualise the data"
   ]
  },
  {
   "cell_type": "code",
   "execution_count": 29,
   "id": "68526ae0",
   "metadata": {},
   "outputs": [
    {
     "data": {
      "text/plain": [
       "<AxesSubplot:xlabel='spam', ylabel='count'>"
      ]
     },
     "execution_count": 29,
     "metadata": {},
     "output_type": "execute_result"
    },
    {
     "data": {
      "image/png": "[encoded data removed]",
      "text/plain": [
       "<Figure size 432x288 with 1 Axes>"
      ]
     },
     "metadata": {
      "needs_background": "light"
     },
     "output_type": "display_data"
    }
   ],
   "source": [
    "sns.countplot(x = dataset[\"spam\"],data=dataset)"
   ]
  },
  {
   "cell_type": "code",
   "execution_count": 30,
   "id": "d6c50f91",
   "metadata": {},
   "outputs": [
    {
     "name": "stdout",
     "output_type": "stream",
     "text": [
      "number of no_spam records: 4360\n",
      "number of spam records: 1368\n"
     ]
    }
   ],
   "source": [
    "# splitting the spam into 0 and 1 and checking the length for clear insight:\n",
    "no_spam = dataset[dataset[\"spam\"]==0]\n",
    "spam = dataset[dataset[\"spam\"]==1]\n",
    "\n",
    "print(\"number of no_spam records:\",len(no_spam))\n",
    "print(\"number of spam records:\",len(spam))"
   ]
  },
  {
   "cell_type": "markdown",
   "id": "bb5879a7",
   "metadata": {},
   "source": [
    "### Train the model using Multinomial NB"
   ]
  },
  {
   "cell_type": "code",
   "execution_count": 31,
   "id": "d3955205",
   "metadata": {},
   "outputs": [],
   "source": [
    "from sklearn.naive_bayes import MultinomialNB, GaussianNB\n",
    "classifier = MultinomialNB()"
   ]
  },
  {
   "cell_type": "code",
   "execution_count": 32,
   "id": "cfbeb9ce",
   "metadata": {},
   "outputs": [],
   "source": [
    "from sklearn.model_selection import train_test_split\n",
    "X_train,X_test,y_train,y_test = train_test_split(newX,y,test_size=0.2)"
   ]
  },
  {
   "cell_type": "code",
   "execution_count": 33,
   "id": "e93928d2",
   "metadata": {},
   "outputs": [
    {
     "data": {
      "text/plain": [
       "((4582, 37303), (1146, 37303), (4582,), (1146,))"
      ]
     },
     "execution_count": 33,
     "metadata": {},
     "output_type": "execute_result"
    }
   ],
   "source": [
    "X_train.shape,X_test.shape,y_train.shape,y_test.shape"
   ]
  },
  {
   "cell_type": "code",
   "execution_count": 34,
   "id": "fefe9a69",
   "metadata": {},
   "outputs": [
    {
     "data": {
      "text/plain": [
       "MultinomialNB()"
      ]
     },
     "execution_count": 34,
     "metadata": {},
     "output_type": "execute_result"
    }
   ],
   "source": [
    "classifier.fit(X_train,y_train)"
   ]
  },
  {
   "cell_type": "markdown",
   "id": "d73fbdf9",
   "metadata": {},
   "source": [
    "### Evaluate the model using Multinomial NB"
   ]
  },
  {
   "cell_type": "code",
   "execution_count": 35,
   "id": "0faa9b60",
   "metadata": {},
   "outputs": [
    {
     "name": "stdout",
     "output_type": "stream",
     "text": [
      "Testing accuracy: 0.9895287958115183\n",
      "F1 score: 0.9781818181818182\n",
      "Precision score: 0.9607142857142857\n",
      "Recall score: 0.9962962962962963\n"
     ]
    }
   ],
   "source": [
    "from sklearn.metrics import accuracy_score,confusion_matrix,recall_score,precision_score,f1_score\n",
    "\n",
    "#ACCURACY:\n",
    "print(\"Testing accuracy:\",accuracy_score(y_test,classifier.predict(X_test)))\n",
    "\n",
    "#F1-SCORE:\n",
    "print(\"F1 score:\",f1_score(y_test,classifier.predict(X_test)))\n",
    "\n",
    "#PRECISION SCORE:\n",
    "print(\"Precision score:\",precision_score(y_test,classifier.predict(X_test)))\n",
    "\n",
    "#RECALL SCORE:\n",
    "print(\"Recall score:\",recall_score(y_test,classifier.predict(X_test)))"
   ]
  },
  {
   "cell_type": "code",
   "execution_count": 36,
   "id": "fa4a62bd",
   "metadata": {},
   "outputs": [
    {
     "data": {
      "text/plain": [
       "<AxesSubplot:>"
      ]
     },
     "execution_count": 36,
     "metadata": {},
     "output_type": "execute_result"
    },
    {
     "data": {
      "image/png": "[encoded data removed]",
      "text/plain": [
       "<Figure size 432x288 with 2 Axes>"
      ]
     },
     "metadata": {
      "needs_background": "light"
     },
     "output_type": "display_data"
    }
   ],
   "source": [
    "sns.heatmap(confusion_matrix(y_test,classifier.predict(X_test)),annot=True,cmap='Pastel2')"
   ]
  },
  {
   "cell_type": "markdown",
   "id": "36b51cf2",
   "metadata": {},
   "source": [
    "### Train the model using Gaussian NB"
   ]
  },
  {
   "cell_type": "code",
   "execution_count": 37,
   "id": "007d6a42",
   "metadata": {},
   "outputs": [],
   "source": [
    "clsssifier2 = GaussianNB()"
   ]
  },
  {
   "cell_type": "code",
   "execution_count": 38,
   "id": "909ecb49",
   "metadata": {},
   "outputs": [],
   "source": [
    "from sklearn.model_selection import train_test_split as tts\n",
    "Xtrain,Xtest,Ytrain,Ytest= tts(newX,y,test_size=0.2)"
   ]
  },
  {
   "cell_type": "code",
   "execution_count": 39,
   "id": "cedf29d2",
   "metadata": {},
   "outputs": [
    {
     "data": {
      "text/plain": [
       "((4582, 37303), (1146, 37303), (4582,), (1146,))"
      ]
     },
     "execution_count": 39,
     "metadata": {},
     "output_type": "execute_result"
    }
   ],
   "source": [
    "Xtrain.shape,Xtest.shape,Ytrain.shape,Ytest.shape"
   ]
  },
  {
   "cell_type": "code",
   "execution_count": 40,
   "id": "47d1f6a1",
   "metadata": {},
   "outputs": [
    {
     "data": {
      "text/plain": [
       "GaussianNB()"
      ]
     },
     "execution_count": 40,
     "metadata": {},
     "output_type": "execute_result"
    }
   ],
   "source": [
    "clsssifier2.fit(Xtrain,Ytrain)"
   ]
  },
  {
   "cell_type": "markdown",
   "id": "f0d7a4b7",
   "metadata": {},
   "source": [
    "### Evaluate the model using Gaussian NB"
   ]
  },
  {
   "cell_type": "code",
   "execution_count": 41,
   "id": "e5606303",
   "metadata": {},
   "outputs": [
    {
     "name": "stdout",
     "output_type": "stream",
     "text": [
      "Testing accuracy: 0.9895287958115183\n",
      "F1 score: 0.9781818181818182\n",
      "Precision score: 0.9607142857142857\n",
      "Recall score: 0.9962962962962963\n"
     ]
    }
   ],
   "source": [
    "from sklearn.metrics import accuracy_score,confusion_matrix,recall_score,precision_score,f1_score\n",
    "\n",
    "#ACCURACY:\n",
    "print(\"Testing accuracy:\",accuracy_score(y_test,classifier.predict(X_test)))\n",
    "\n",
    "#F1-SCORE:\n",
    "print(\"F1 score:\",f1_score(y_test,classifier.predict(X_test)))\n",
    "\n",
    "#PRECISION SCORE:\n",
    "print(\"Precision score:\",precision_score(y_test,classifier.predict(X_test)))\n",
    "\n",
    "#RECALL SCORE:\n",
    "print(\"Recall score:\",recall_score(y_test,classifier.predict(X_test)))"
   ]
  },
  {
   "cell_type": "code",
   "execution_count": 42,
   "id": "63db42c4",
   "metadata": {},
   "outputs": [
    {
     "data": {
      "text/plain": [
       "<AxesSubplot:>"
      ]
     },
     "execution_count": 42,
     "metadata": {},
     "output_type": "execute_result"
    },
    {
     "data": {
      "image/png": "[encoded data removed]",
      "text/plain": [
       "<Figure size 432x288 with 2 Axes>"
      ]
     },
     "metadata": {
      "needs_background": "light"
     },
     "output_type": "display_data"
    }
   ],
   "source": [
    "sns.heatmap(confusion_matrix(y_test,classifier.predict(X_test)),annot=True,cmap='Pastel2')"
   ]
  },
  {
   "cell_type": "markdown",
   "id": "af2347b8",
   "metadata": {},
   "source": [
    "# Naive Bayes Classifier"
   ]
  },
  {
   "cell_type": "markdown",
   "id": "b045258c",
   "metadata": {},
   "source": [
    "### 1. Import libraries"
   ]
  },
  {
   "cell_type": "code",
   "execution_count": 43,
   "id": "82e5696c",
   "metadata": {},
   "outputs": [],
   "source": [
    "import numpy as np\n",
    "import pandas as pd\n",
    "import matplotlib.pyplot as plt\n",
    "import seaborn as sns"
   ]
  },
  {
   "cell_type": "markdown",
   "id": "cc41431d",
   "metadata": {},
   "source": [
    "### 2. Import dataset"
   ]
  },
  {
   "cell_type": "code",
   "execution_count": 44,
   "id": "b251b4d8",
   "metadata": {},
   "outputs": [
    {
     "data": {
      "text/html": [
       "<div>\n",
       "<style scoped>\n",
       "    .dataframe tbody tr th:only-of-type {\n",
       "        vertical-align: middle;\n",
       "    }\n",
       "\n",
       "    .dataframe tbody tr th {\n",
       "        vertical-align: top;\n",
       "    }\n",
       "\n",
       "    .dataframe thead th {\n",
       "        text-align: right;\n",
       "    }\n",
       "</style>\n",
       "<table border=\"1\" class=\"dataframe\">\n",
       "  <thead>\n",
       "    <tr style=\"text-align: right;\">\n",
       "      <th></th>\n",
       "      <th>Time</th>\n",
       "      <th>V1</th>\n",
       "      <th>V2</th>\n",
       "      <th>V3</th>\n",
       "      <th>V4</th>\n",
       "      <th>V5</th>\n",
       "      <th>V6</th>\n",
       "      <th>V7</th>\n",
       "      <th>V8</th>\n",
       "      <th>V9</th>\n",
       "      <th>...</th>\n",
       "      <th>V21</th>\n",
       "      <th>V22</th>\n",
       "      <th>V23</th>\n",
       "      <th>V24</th>\n",
       "      <th>V25</th>\n",
       "      <th>V26</th>\n",
       "      <th>V27</th>\n",
       "      <th>V28</th>\n",
       "      <th>Amount</th>\n",
       "      <th>Class</th>\n",
       "    </tr>\n",
       "  </thead>\n",
       "  <tbody>\n",
       "    <tr>\n",
       "      <th>0</th>\n",
       "      <td>0.0</td>\n",
       "      <td>-1.359807</td>\n",
       "      <td>-0.072781</td>\n",
       "      <td>2.536347</td>\n",
       "      <td>1.378155</td>\n",
       "      <td>-0.338321</td>\n",
       "      <td>0.462388</td>\n",
       "      <td>0.239599</td>\n",
       "      <td>0.098698</td>\n",
       "      <td>0.363787</td>\n",
       "      <td>...</td>\n",
       "      <td>-0.018307</td>\n",
       "      <td>0.277838</td>\n",
       "      <td>-0.110474</td>\n",
       "      <td>0.066928</td>\n",
       "      <td>0.128539</td>\n",
       "      <td>-0.189115</td>\n",
       "      <td>0.133558</td>\n",
       "      <td>-0.021053</td>\n",
       "      <td>149.62</td>\n",
       "      <td>0</td>\n",
       "    </tr>\n",
       "    <tr>\n",
       "      <th>1</th>\n",
       "      <td>0.0</td>\n",
       "      <td>1.191857</td>\n",
       "      <td>0.266151</td>\n",
       "      <td>0.166480</td>\n",
       "      <td>0.448154</td>\n",
       "      <td>0.060018</td>\n",
       "      <td>-0.082361</td>\n",
       "      <td>-0.078803</td>\n",
       "      <td>0.085102</td>\n",
       "      <td>-0.255425</td>\n",
       "      <td>...</td>\n",
       "      <td>-0.225775</td>\n",
       "      <td>-0.638672</td>\n",
       "      <td>0.101288</td>\n",
       "      <td>-0.339846</td>\n",
       "      <td>0.167170</td>\n",
       "      <td>0.125895</td>\n",
       "      <td>-0.008983</td>\n",
       "      <td>0.014724</td>\n",
       "      <td>2.69</td>\n",
       "      <td>0</td>\n",
       "    </tr>\n",
       "    <tr>\n",
       "      <th>2</th>\n",
       "      <td>1.0</td>\n",
       "      <td>-1.358354</td>\n",
       "      <td>-1.340163</td>\n",
       "      <td>1.773209</td>\n",
       "      <td>0.379780</td>\n",
       "      <td>-0.503198</td>\n",
       "      <td>1.800499</td>\n",
       "      <td>0.791461</td>\n",
       "      <td>0.247676</td>\n",
       "      <td>-1.514654</td>\n",
       "      <td>...</td>\n",
       "      <td>0.247998</td>\n",
       "      <td>0.771679</td>\n",
       "      <td>0.909412</td>\n",
       "      <td>-0.689281</td>\n",
       "      <td>-0.327642</td>\n",
       "      <td>-0.139097</td>\n",
       "      <td>-0.055353</td>\n",
       "      <td>-0.059752</td>\n",
       "      <td>378.66</td>\n",
       "      <td>0</td>\n",
       "    </tr>\n",
       "    <tr>\n",
       "      <th>3</th>\n",
       "      <td>1.0</td>\n",
       "      <td>-0.966272</td>\n",
       "      <td>-0.185226</td>\n",
       "      <td>1.792993</td>\n",
       "      <td>-0.863291</td>\n",
       "      <td>-0.010309</td>\n",
       "      <td>1.247203</td>\n",
       "      <td>0.237609</td>\n",
       "      <td>0.377436</td>\n",
       "      <td>-1.387024</td>\n",
       "      <td>...</td>\n",
       "      <td>-0.108300</td>\n",
       "      <td>0.005274</td>\n",
       "      <td>-0.190321</td>\n",
       "      <td>-1.175575</td>\n",
       "      <td>0.647376</td>\n",
       "      <td>-0.221929</td>\n",
       "      <td>0.062723</td>\n",
       "      <td>0.061458</td>\n",
       "      <td>123.50</td>\n",
       "      <td>0</td>\n",
       "    </tr>\n",
       "    <tr>\n",
       "      <th>4</th>\n",
       "      <td>2.0</td>\n",
       "      <td>-1.158233</td>\n",
       "      <td>0.877737</td>\n",
       "      <td>1.548718</td>\n",
       "      <td>0.403034</td>\n",
       "      <td>-0.407193</td>\n",
       "      <td>0.095921</td>\n",
       "      <td>0.592941</td>\n",
       "      <td>-0.270533</td>\n",
       "      <td>0.817739</td>\n",
       "      <td>...</td>\n",
       "      <td>-0.009431</td>\n",
       "      <td>0.798278</td>\n",
       "      <td>-0.137458</td>\n",
       "      <td>0.141267</td>\n",
       "      <td>-0.206010</td>\n",
       "      <td>0.502292</td>\n",
       "      <td>0.219422</td>\n",
       "      <td>0.215153</td>\n",
       "      <td>69.99</td>\n",
       "      <td>0</td>\n",
       "    </tr>\n",
       "  </tbody>\n",
       "</table>\n",
       "<p>5 rows × 31 columns</p>\n",
       "</div>"
      ],
      "text/plain": [
       "   Time        V1        V2        V3        V4        V5        V6        V7  \\\n",
       "0   0.0 -1.359807 -0.072781  2.536347  1.378155 -0.338321  0.462388  0.239599   \n",
       "1   0.0  1.191857  0.266151  0.166480  0.448154  0.060018 -0.082361 -0.078803   \n",
       "2   1.0 -1.358354 -1.340163  1.773209  0.379780 -0.503198  1.800499  0.791461   \n",
       "3   1.0 -0.966272 -0.185226  1.792993 -0.863291 -0.010309  1.247203  0.237609   \n",
       "4   2.0 -1.158233  0.877737  1.548718  0.403034 -0.407193  0.095921  0.592941   \n",
       "\n",
       "         V8        V9  ...       V21       V22       V23       V24       V25  \\\n",
       "0  0.098698  0.363787  ... -0.018307  0.277838 -0.110474  0.066928  0.128539   \n",
       "1  0.085102 -0.255425  ... -0.225775 -0.638672  0.101288 -0.339846  0.167170   \n",
       "2  0.247676 -1.514654  ...  0.247998  0.771679  0.909412 -0.689281 -0.327642   \n",
       "3  0.377436 -1.387024  ... -0.108300  0.005274 -0.190321 -1.175575  0.647376   \n",
       "4 -0.270533  0.817739  ... -0.009431  0.798278 -0.137458  0.141267 -0.206010   \n",
       "\n",
       "        V26       V27       V28  Amount  Class  \n",
       "0 -0.189115  0.133558 -0.021053  149.62      0  \n",
       "1  0.125895 -0.008983  0.014724    2.69      0  \n",
       "2 -0.139097 -0.055353 -0.059752  378.66      0  \n",
       "3 -0.221929  0.062723  0.061458  123.50      0  \n",
       "4  0.502292  0.219422  0.215153   69.99      0  \n",
       "\n",
       "[5 rows x 31 columns]"
      ]
     },
     "execution_count": 44,
     "metadata": {},
     "output_type": "execute_result"
    }
   ],
   "source": [
    "data = pd.read_csv(\"creditcard.csv\")\n",
    "data.head()"
   ]
  },
  {
   "cell_type": "code",
   "execution_count": 45,
   "id": "41e2287f",
   "metadata": {},
   "outputs": [
    {
     "data": {
      "text/plain": [
       "array([[ 0.00000000e+00, -1.35980713e+00, -7.27811733e-02, ...,\n",
       "         1.33558377e-01, -2.10530535e-02,  1.49620000e+02],\n",
       "       [ 0.00000000e+00,  1.19185711e+00,  2.66150712e-01, ...,\n",
       "        -8.98309914e-03,  1.47241692e-02,  2.69000000e+00],\n",
       "       [ 1.00000000e+00, -1.35835406e+00, -1.34016307e+00, ...,\n",
       "        -5.53527940e-02, -5.97518406e-02,  3.78660000e+02],\n",
       "       ...,\n",
       "       [ 1.72788000e+05,  1.91956501e+00, -3.01253846e-01, ...,\n",
       "         4.45477214e-03, -2.65608286e-02,  6.78800000e+01],\n",
       "       [ 1.72788000e+05, -2.40440050e-01,  5.30482513e-01, ...,\n",
       "         1.08820735e-01,  1.04532821e-01,  1.00000000e+01],\n",
       "       [ 1.72792000e+05, -5.33412522e-01, -1.89733337e-01, ...,\n",
       "        -2.41530880e-03,  1.36489143e-02,  2.17000000e+02]])"
      ]
     },
     "execution_count": 45,
     "metadata": {},
     "output_type": "execute_result"
    }
   ],
   "source": [
    "z = data.iloc[:,:-1].values\n",
    "y = data.iloc[:,-1].values\n",
    "z"
   ]
  },
  {
   "cell_type": "markdown",
   "id": "509f59ee",
   "metadata": {},
   "source": [
    "### 3. Scaling the dataset"
   ]
  },
  {
   "cell_type": "code",
   "execution_count": 46,
   "id": "c6b02d6a",
   "metadata": {},
   "outputs": [
    {
     "data": {
      "text/plain": [
       "array([[-1.99658302, -0.69424232, -0.04407492, ...,  0.33089162,\n",
       "        -0.06378115,  0.24496426],\n",
       "       [-1.99658302,  0.60849633,  0.16117592, ..., -0.02225568,\n",
       "         0.04460752, -0.34247454],\n",
       "       [-1.99656197, -0.69350046, -0.81157783, ..., -0.13713686,\n",
       "        -0.18102083,  1.16068593],\n",
       "       ...,\n",
       "       [ 1.6419735 ,  0.98002374, -0.18243372, ...,  0.01103672,\n",
       "        -0.0804672 , -0.0818393 ],\n",
       "       [ 1.6419735 , -0.12275539,  0.32125034, ...,  0.26960398,\n",
       "         0.31668678, -0.31324853],\n",
       "       [ 1.64205773, -0.27233093, -0.11489898, ..., -0.00598394,\n",
       "         0.04134999,  0.51435531]])"
      ]
     },
     "execution_count": 46,
     "metadata": {},
     "output_type": "execute_result"
    }
   ],
   "source": [
    "#scaling the dataset\n",
    "from sklearn.preprocessing import StandardScaler\n",
    "sc = StandardScaler()\n",
    "znew = sc.fit_transform(z)\n",
    "znew"
   ]
  },
  {
   "cell_type": "markdown",
   "id": "851760e3",
   "metadata": {},
   "source": [
    "### 4. Visualise the datset"
   ]
  },
  {
   "cell_type": "code",
   "execution_count": 47,
   "id": "383d1605",
   "metadata": {},
   "outputs": [
    {
     "data": {
      "text/plain": [
       "<AxesSubplot:xlabel='Class', ylabel='count'>"
      ]
     },
     "execution_count": 47,
     "metadata": {},
     "output_type": "execute_result"
    },
    {
     "data": {
      "image/png": "[encoded data removed]",
      "text/plain": [
       "<Figure size 432x288 with 1 Axes>"
      ]
     },
     "metadata": {
      "needs_background": "light"
     },
     "output_type": "display_data"
    }
   ],
   "source": [
    "sns.countplot(data=data,x=data['Class'])"
   ]
  },
  {
   "cell_type": "code",
   "execution_count": 48,
   "id": "910fe9df",
   "metadata": {},
   "outputs": [
    {
     "data": {
      "text/plain": [
       "(5728, 37303)"
      ]
     },
     "execution_count": 48,
     "metadata": {},
     "output_type": "execute_result"
    }
   ],
   "source": [
    "X.shape"
   ]
  },
  {
   "cell_type": "markdown",
   "id": "6ffac546",
   "metadata": {},
   "source": [
    "### 5. Splitting the data to train and test set"
   ]
  },
  {
   "cell_type": "code",
   "execution_count": 49,
   "id": "507fc01c",
   "metadata": {},
   "outputs": [],
   "source": [
    "from sklearn.model_selection import train_test_split\n",
    "z_train,z_test,y_train, y_test = train_test_split(z,y,test_size=0.2)"
   ]
  },
  {
   "cell_type": "code",
   "execution_count": 50,
   "id": "77f29387",
   "metadata": {},
   "outputs": [
    {
     "data": {
      "text/plain": [
       "((227845, 30), (227845,), (56962, 30), (56962,))"
      ]
     },
     "execution_count": 50,
     "metadata": {},
     "output_type": "execute_result"
    }
   ],
   "source": [
    "z_train.shape,y_train.shape, z_test.shape, y_test.shape"
   ]
  },
  {
   "cell_type": "markdown",
   "id": "ba800247",
   "metadata": {},
   "source": [
    "### 6. Train the model"
   ]
  },
  {
   "cell_type": "code",
   "execution_count": 51,
   "id": "2bdc3ca9",
   "metadata": {},
   "outputs": [],
   "source": [
    "from sklearn.naive_bayes import GaussianNB\n",
    "spam_model = GaussianNB()\n",
    "spam_model.fit(z_train,y_train)\n",
    "y_pred = spam_model.predict(z_test)"
   ]
  },
  {
   "cell_type": "markdown",
   "id": "1ba67990",
   "metadata": {},
   "source": [
    "### 7. Evaluate the model"
   ]
  },
  {
   "cell_type": "code",
   "execution_count": 52,
   "id": "66edce1c",
   "metadata": {},
   "outputs": [
    {
     "data": {
      "text/plain": [
       "0.9928724412766405"
      ]
     },
     "execution_count": 52,
     "metadata": {},
     "output_type": "execute_result"
    }
   ],
   "source": [
    "from sklearn.metrics import accuracy_score,confusion_matrix\n",
    "accuracy_score(y_pred,y_test)"
   ]
  },
  {
   "cell_type": "code",
   "execution_count": 53,
   "id": "3be5d33c",
   "metadata": {},
   "outputs": [
    {
     "data": {
      "text/plain": [
       "array([[56491,   361],\n",
       "       [   45,    65]], dtype=int64)"
      ]
     },
     "execution_count": 53,
     "metadata": {},
     "output_type": "execute_result"
    }
   ],
   "source": [
    "cmat =confusion_matrix(y_test,y_pred)\n",
    "cmat"
   ]
  },
  {
   "cell_type": "code",
   "execution_count": 54,
   "id": "c2409372",
   "metadata": {},
   "outputs": [
    {
     "data": {
      "text/plain": [
       "<AxesSubplot:>"
      ]
     },
     "execution_count": 54,
     "metadata": {},
     "output_type": "execute_result"
    },
    {
     "data": {
      "image/png": "[encoded data removed]",
      "text/plain": [
       "<Figure size 432x288 with 2 Axes>"
      ]
     },
     "metadata": {
      "needs_background": "light"
     },
     "output_type": "display_data"
    }
   ],
   "source": [
    "sns.heatmap(cmat,annot=True)"
   ]
  }
 ],
 "metadata": {
  "kernelspec": {
   "display_name": "Python 3",
   "language": "python",
   "name": "python3"
  },
  "language_info": {
   "codemirror_mode": {
    "name": "ipython",
    "version": 3
   },
   "file_extension": ".py",
   "mimetype": "text/x-python",
   "name": "python",
   "nbconvert_exporter": "python",
   "pygments_lexer": "ipython3",
   "version": "3.8.8"
  }
 },
 "nbformat": 4,
 "nbformat_minor": 5
}
